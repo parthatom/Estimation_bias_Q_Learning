{
 "cells": [
  {
   "cell_type": "code",
   "execution_count": 1,
   "id": "dddcde1f",
   "metadata": {
    "id": "dddcde1f"
   },
   "outputs": [],
   "source": [
    "import numpy as np\n",
    "import matplotlib.pyplot as plt\n",
    "import statistics as stat\n",
    "import copy"
   ]
  },
  {
   "cell_type": "code",
   "execution_count": 2,
   "id": "a6b448f3",
   "metadata": {
    "id": "a6b448f3"
   },
   "outputs": [],
   "source": [
    "N = 3\n",
    "alpha = 0.01\n",
    "gamma = 1\n",
    "epochs = 200\n",
    "p = 0.8\n",
    "np.random.seed(0)"
   ]
  },
  {
   "cell_type": "code",
   "execution_count": 3,
   "id": "d4a62eb0",
   "metadata": {
    "id": "d4a62eb0"
   },
   "outputs": [],
   "source": [
    "def rewardnstate(a, s):\n",
    "    r, state, terminal = P[s][a]\n",
    "    if s==1:\n",
    "        r = r + np.random.uniform(-1, 1)\n",
    "    return r, state, terminal\n",
    "\n",
    "def act_functn(Q, state, state_visits, nAfes):\n",
    "    #eps = 0.2\n",
    "    #eps = 1/np.power(state_visits[state], 0.2)\n",
    "    eps = 1/np.sqrt(state_visits[state])\n",
    "    if np.random.choice([True, False], p=[1-eps, eps]):\n",
    "        action = np.argmax(Q[state, :nAfes[state]])\n",
    "    else:\n",
    "        action = np.random.choice(nAfes[state])\n",
    "    return action\n"
   ]
  },
  {
   "cell_type": "code",
   "execution_count": 4,
   "id": "37c108a4",
   "metadata": {
    "id": "37c108a4"
   },
   "outputs": [],
   "source": [
    "def train2(epochs, gamma, rewardnstate, act_functn, P, seed=1, alpha=0.05):\n",
    "    def double_Qlearning(Qa, Qb, cumsum, count, count_matrix_a, maximal_value_a, rewardnstate, action, state, reward_list, state_visits):\n",
    "        reward, next_state, terminal = rewardnstate(action, state)\n",
    "        cumsum += reward\n",
    "        count += 1\n",
    "        alpha_a = 1/np.power(count_matrix_a[state, action], p)\n",
    "        action_star = np.argmax(Qa[next_state, :nAfes[next_state]])\n",
    "        Qa[state, action] += alpha_a*(reward + gamma*Qb[next_state, action_star] - Qa[state, action])\n",
    "        count_matrix_a[state, action] += 1\n",
    "        state_visits[state] += 1\n",
    "        maximal_value_a.append(np.max(Qa[start_state, :nAfes[start_state]]))\n",
    "        maximal_value.append(np.max(Qa[start_state, :nAfes[start_state]]))\n",
    "        reward_list.append((state, action, reward))\n",
    "        return reward_list, maximal_value_a, maximal_value, state_visits, count_matrix_a, Qa, next_state, terminal, cumsum, count\n",
    "    \n",
    "    def Qlearning(Qa, cumsum, count, count_matrix_a, maximal_value_a, rewardnstate, action, state, reward_list, state_visits):\n",
    "        reward, next_state, terminal = rewardnstate(action, state)\n",
    "        cumsum += reward\n",
    "        count += 1\n",
    "        alpha_a = 1/np.power(count_matrix_a[state, action], p)\n",
    "        Qa[state, action] += alpha_a*(reward + gamma*np.max(Qa[next_state, :nAfes[next_state]]) - Qa[state, action])\n",
    "        count_matrix_a[state, action] += 1\n",
    "        state_visits[state] += 1\n",
    "        maximal_value_a.append(np.max(Qa[start_state, :nAfes[start_state]]))\n",
    "        maximal_value.append(np.max(Qa[start_state, :nAfes[start_state]]))\n",
    "        reward_list.append((state, action, reward))\n",
    "        return reward_list, maximal_value_a, maximal_value, state_visits, count_matrix_a, Qa, next_state, terminal, cumsum, count\n",
    "    \n",
    "    np.random.seed(seed)\n",
    "    nS = 3\n",
    "    nA = 8\n",
    "    gamma = 1\n",
    "    count_matrix_a = np.ones([nS, nA])\n",
    "    count_matrix_b = np.ones([nS, nA])\n",
    "    state_visits = np.ones(nS)\n",
    "    maximal_value_a = []\n",
    "    maximal_value_b = []\n",
    "    maximal_value = []\n",
    "    pref_list = []\n",
    "    pref_learning_list = []\n",
    "    cumsum = 0\n",
    "    count = 0\n",
    "    Qa = np.random.rand(nS, nA)\n",
    "    Qb = np.random.rand(nS, nA)\n",
    "    Qa[0] = 0\n",
    "    Qb[0] = 0\n",
    "    print(\"Qa\", Qa)\n",
    "    nAfes = [1, 8, 2] #num_Actions_for_each_state\n",
    "    start_state = 2\n",
    "    return_dict = {\n",
    "            0: {0: []},\n",
    "            1: {\n",
    "                0: [],\n",
    "                1: [], \n",
    "                2: [],\n",
    "                3: [],\n",
    "                4: [],\n",
    "                5: [],\n",
    "                6: [],\n",
    "                7: []\n",
    "            },\n",
    "            2: {\n",
    "                0: [],\n",
    "                1: []\n",
    "            }\n",
    "        }\n",
    "    for i in range(epochs):\n",
    "        reward_list = []\n",
    "        state = start_state#state = np.random.choice(nS)\n",
    "        terminal = True if state==0 else False\n",
    "        while not terminal:\n",
    "            if np.random.choice([True, False]):\n",
    "                action = act_functn(Qa, state, state_visits, nAfes)\n",
    "                try:\n",
    "                    stat.variance(return_dict[state][action])\n",
    "                    x = True\n",
    "                except:\n",
    "                    x = False\n",
    "                if(x):\n",
    "                    if(stat.variance(return_dict[state][action])<0.4):\n",
    "                        (reward_list, maximal_value_a,\n",
    "                         maximal_value, state_visits,\n",
    "                         count_matrix_a, Qa,\n",
    "                         next_state, terminal,\n",
    "                         cumsum, count) = double_Qlearning(Qa, Qb,\n",
    "                                                           cumsum, count,\n",
    "                                                           count_matrix_a, maximal_value_a,\n",
    "                                                           rewardnstate, action,\n",
    "                                                           state, reward_list,\n",
    "                                                           state_visits)\n",
    "                        pref_learning_list.append(1)\n",
    "                    else:\n",
    "                        (reward_list, maximal_value_a,\n",
    "                         maximal_value, state_visits,\n",
    "                         count_matrix_a, Qa,\n",
    "                         next_state, terminal,\n",
    "                         cumsum, count) = Qlearning(Qa, cumsum,\n",
    "                                                    count, count_matrix_a,\n",
    "                                                    maximal_value_a, rewardnstate,\n",
    "                                                    action, state, reward_list,\n",
    "                                                    state_visits)\n",
    "                        pref_learning_list.append(0)\n",
    "                else:\n",
    "                    (reward_list, maximal_value_a,\n",
    "                     maximal_value, state_visits,\n",
    "                     count_matrix_a, Qa,\n",
    "                     next_state, terminal,\n",
    "                     cumsum, count) = Qlearning(Qa, cumsum,\n",
    "                                                count, count_matrix_a,\n",
    "                                                maximal_value_a, rewardnstate,\n",
    "                                                action, state,\n",
    "                                                reward_list, state_visits)\n",
    "                    pref_learning_list.append(0)\n",
    "\n",
    "            else:\n",
    "                action = act_functn(Qb, state, state_visits, nAfes)\n",
    "                try:\n",
    "                    stat.variance(return_dict[state][action])\n",
    "                    x = True\n",
    "                except:\n",
    "                    x = False\n",
    "                if(x):\n",
    "                    if(stat.variance(return_dict[state][action])<0.4):\n",
    "                        (reward_list, maximal_value_b,\n",
    "                         maximal_value, state_visits,\n",
    "                         count_matrix_b, Qb,\n",
    "                         next_state, terminal,\n",
    "                         cumsum, count) = double_Qlearning(Qb, Qa,\n",
    "                                                           cumsum, count,\n",
    "                                                           count_matrix_b, maximal_value_b,\n",
    "                                                           rewardnstate, action,\n",
    "                                                           state, reward_list,\n",
    "                                                           state_visits)\n",
    "                        pref_learning_list.append(1)\n",
    "                    else:\n",
    "                        (reward_list, maximal_value_b,\n",
    "                         maximal_value, state_visits,\n",
    "                         count_matrix_b, Qb,\n",
    "                         next_state, terminal,\n",
    "                         cumsum, count) = Qlearning(Qb, cumsum,\n",
    "                                                    count, count_matrix_b,\n",
    "                                                    maximal_value_b, rewardnstate,\n",
    "                                                    action, state,\n",
    "                                                    reward_list, state_visits)\n",
    "                        pref_learning_list.append(0)\n",
    "                else:\n",
    "                    (reward_list, maximal_value_b,\n",
    "                     maximal_value, state_visits,\n",
    "                     count_matrix_b, Qb,\n",
    "                     next_state, terminal,\n",
    "                     cumsum, count) = Qlearning(Qb, cumsum,\n",
    "                                                count, count_matrix_b,\n",
    "                                                maximal_value_b, rewardnstate,\n",
    "                                                action, state,\n",
    "                                                reward_list, state_visits)\n",
    "\n",
    "                    pref_learning_list.append(0)\n",
    "\n",
    "            state = next_state\n",
    "            reward_sum = 0\n",
    "            for i in range(len(reward_list)-1, -1, -1):\n",
    "                reward_sum = gamma*reward_sum + reward_list[i][2]\n",
    "                return_dict[reward_list[i][0]][reward_list[i][1]].append(reward_sum)\n",
    "\n",
    "        pref = .0\n",
    "        pref += Qa[2][0] - Qa[2][1] #preference of left over right\n",
    "        pref += Qb[2][0] - Qb[2][1] #preference of left over right\n",
    "        pref /= float(2)\n",
    "        pref_list.append(pref)\n",
    "        reward_list.append(cumsum/count)\n",
    "    return reward_list, pref_list, pref_learning_list, Qa, Qb, maximal_value_a, maximal_value_b, maximal_value, return_dict"
   ]
  },
  {
   "cell_type": "code",
   "execution_count": 5,
   "id": "0ZI--hBmkLnH",
   "metadata": {
    "id": "0ZI--hBmkLnH"
   },
   "outputs": [],
   "source": [
    "def train(epochs, gamma, rewardnstate, act_functn, P, seed=0, alpha=0.05):\n",
    "    def double_Qlearning(Qa, Qb,\n",
    "                         cumsum, count,\n",
    "                         count_matrix_a, maximal_value_a, \n",
    "                         maximal_value,\n",
    "                         rewardnstate, action,\n",
    "                         state, reward_list,\n",
    "                         state_visits):\n",
    "        reward, next_state, terminal = rewardnstate(action, state)\n",
    "        cumsum += reward\n",
    "        count += 1\n",
    "        alpha_a = 1/np.power(count_matrix_a[state, action], p)\n",
    "        action_star = np.argmax(Qa[next_state, :nAfes[next_state]])\n",
    "        Qa[state, action] += alpha_a*(reward + gamma*Qb[next_state, action_star] - Qa[state, action])\n",
    "        count_matrix_a[state, action] += 1\n",
    "        state_visits[state] += 1\n",
    "        maximal_value_a.append(np.max(Qa[start_state, :nAfes[start_state]]))\n",
    "        maximal_value.append(np.max(Qa[start_state, :nAfes[start_state]]))\n",
    "        reward_list.append((state, action, reward))\n",
    "        return (reward_list, maximal_value_a,\n",
    "                maximal_value, state_visits,\n",
    "                count_matrix_a, Qa,\n",
    "                next_state, terminal,\n",
    "                cumsum, count)    \n",
    "    \n",
    "    def Qlearning(Qa, cumsum,\n",
    "                  count, count_matrix_a,\n",
    "                  maximal_value_a, maximal_value, \n",
    "                  rewardnstate,\n",
    "                  action, state, reward_list,\n",
    "                  state_visits):\n",
    "        reward, next_state, terminal = rewardnstate(action, state)\n",
    "        cumsum += reward\n",
    "        count += 1\n",
    "        alpha_a = 1/np.power(count_matrix_a[state, action], p)\n",
    "        Qa[state, action] += alpha_a*(reward + gamma*np.max(Qa[next_state, :nAfes[next_state]]) - Qa[state, action])\n",
    "        count_matrix_a[state, action] += 1\n",
    "        state_visits[state] += 1\n",
    "        maximal_value_a.append(np.max(Qa[start_state, :nAfes[start_state]]))\n",
    "        maximal_value.append(np.max(Qa[start_state, :nAfes[start_state]]))\n",
    "        reward_list.append((state, action, reward))\n",
    "        return (reward_list, maximal_value_a,\n",
    "                maximal_value, state_visits,\n",
    "                count_matrix_a, Qa,\n",
    "                next_state, terminal,\n",
    "                cumsum, count)\n",
    "    \n",
    "    np.random.seed(seed)\n",
    "    nS = 3\n",
    "    nA = 8\n",
    "    gamma = 1\n",
    "    state_visits = np.ones(nS)\n",
    "    # maximal_value_a = []\n",
    "    # maximal_value_b = []\n",
    "    maximal_value = []\n",
    "    pref_list = []\n",
    "    pref_learning_list = [] #0: double q learning, 1: q learning \n",
    "    cumsum = 0\n",
    "    count = 0\n",
    "\n",
    "    Q = [np.random.rand(nS, nA), np.random.rand(nS, nA)]\n",
    "    Q[0][0] = 0\n",
    "    Q[1][0] = 0\n",
    "    count_matrix = [np.ones([nS, nA]), np.ones([nS, nA])]\n",
    "    maximal_value_v = [[], []]\n",
    "    nAfes = [1, 8, 2] #num_Actions_for_each_state\n",
    "    start_state = 2\n",
    "    avg_reward_per_step = []\n",
    "    return_dict = {\n",
    "            0: {0: []},\n",
    "            1: {\n",
    "                0: [], 1: [], 2: [],\n",
    "                3: [], 4: [], 5: [],\n",
    "                6: [], 7: []\n",
    "            },\n",
    "            2: {\n",
    "                0: [], 1: []\n",
    "            }\n",
    "        }\n",
    "    for i in range(epochs):\n",
    "        reward_list = []\n",
    "        state = start_state#state = np.random.choice(nS)\n",
    "        terminal = True if state==0 else False\n",
    "        choice = np.random.choice([True, False]).astype(\"int\")\n",
    "        \n",
    "        while not terminal:\n",
    "            action = act_functn(Q[choice], state, state_visits, nAfes)\n",
    "\n",
    "            # Double Q learning is preferred if \n",
    "            #  we have more than 2 previous returns for a state action pair\n",
    "            #  and the variance of return is less a threshold\n",
    "            # In case either of the above two criteria are not followed\n",
    "            # Q learning is preferred. \n",
    "            if(len(return_dict[state][action]) >= 2):\n",
    "                if(stat.variance(return_dict[state][action])<0.23):\n",
    "                    choice2 = np.random.choice([True, False]).astype(\"int\")\n",
    "                    \n",
    "                    (reward_list, maximal_value_v[choice2],\n",
    "                      maximal_value, state_visits,\n",
    "                      count_matrix[choice2], Qc2, next_state,\n",
    "                      terminal, cumsum, \n",
    "                     count) = double_Qlearning(Q[choice2], Q[1-choice2],\n",
    "                                              cumsum, count,\n",
    "                                              count_matrix[choice2], \n",
    "                                              maximal_value_v[choice2],\n",
    "                                               maximal_value,\n",
    "                                              rewardnstate, action,\n",
    "                                              state, reward_list,\n",
    "                                              state_visits)\n",
    "                    Q[choice2] = Qc2\n",
    "                    pref_learning_list.append(0)\n",
    "                else:\n",
    "                    \n",
    "                    (reward_list, maximal_value_v[choice],\n",
    "                    maximal_value, state_visits,\n",
    "                    count_matrix[choice], Q[choice], next_state,\n",
    "                    terminal, cumsum, count) = Qlearning(Q[choice], cumsum,\n",
    "                                                          count, count_matrix[choice],\n",
    "                                                          maximal_value_v[choice], \n",
    "                                                          maximal_value,\n",
    "                                                          rewardnstate, action, \n",
    "                                                          state, reward_list,\n",
    "                                                          state_visits)\n",
    "                    pref_learning_list.append(1)\n",
    "            else:\n",
    "                \n",
    "                (reward_list, maximal_value_v[choice],\n",
    "                 maximal_value, state_visits,\n",
    "                 count_matrix[choice], Q[choice], next_state,\n",
    "                 terminal, cumsum, count) = Qlearning(Q[choice], cumsum,\n",
    "                                                      count, count_matrix[choice],\n",
    "                                                      maximal_value_v[choice], \n",
    "                                                      maximal_value,\n",
    "                                                      rewardnstate, action, \n",
    "                                                      state, reward_list,\n",
    "                                                      state_visits)\n",
    "                pref_learning_list.append(1)\n",
    "            state = next_state\n",
    "            reward_sum = 0\n",
    "            for i in range(len(reward_list)-1, -1, -1):\n",
    "                reward_sum = gamma*reward_sum + reward_list[i][2]\n",
    "                return_dict[reward_list[i][0]][reward_list[i][1]].append(reward_sum)\n",
    "\n",
    "        pref = .0\n",
    "        pref += Q[0][2][0] - Q[0][2][1] #preference of left over right\n",
    "        pref += Q[1][2][0] - Q[1][2][1] #preference of left over right\n",
    "        pref /= float(2)\n",
    "        pref_list.append(pref)\n",
    "        avg_reward_per_step.append(cumsum/count)\n",
    "    return (avg_reward_per_step, pref_list, pref_learning_list, \n",
    "            Q[0], Q[1], maximal_value_v[0], maximal_value_v[1], \n",
    "            maximal_value, return_dict)"
   ]
  },
  {
   "cell_type": "code",
   "execution_count": 61,
   "id": "f142e9e9",
   "metadata": {
    "id": "f142e9e9"
   },
   "outputs": [],
   "source": [
    "mu = 1\n",
    "P = {\n",
    "    0:{0: (0, 0, True)}, #state:{action: (reward, next state, terminal)}\n",
    "    1:{0: (mu, 0, True),\n",
    "       1: (mu, 0, True),\n",
    "       2: (mu, 0, True),\n",
    "       3: (mu, 0, True),\n",
    "       4: (mu, 0, True),\n",
    "       5: (mu, 0, True),\n",
    "       6: (mu, 0, True),\n",
    "       7: (mu, 0, True)}, \n",
    "    2:{0: (0, 1, False),\n",
    "       1: (0, 0, True)}\n",
    "}\n",
    "(reward_list, pref_list,\n",
    " pref_learning_list, Qa,\n",
    " Qb, maximal_value_a,\n",
    " maximal_value_b, maximal_value,\n",
    " return_dict) = train(2000, gamma, rewardnstate, act_functn, P)"
   ]
  },
  {
   "cell_type": "code",
   "execution_count": 62,
   "id": "SSZyZx6QdUGe",
   "metadata": {
    "colab": {
     "base_uri": "https://localhost:8080/"
    },
    "id": "SSZyZx6QdUGe",
    "outputId": "4a31ea4b-1580-4a4f-9110-c1704a6e1855"
   },
   "outputs": [
    {
     "data": {
      "text/plain": [
       "(3879, 3879, 79, 79)"
      ]
     },
     "execution_count": 62,
     "metadata": {},
     "output_type": "execute_result"
    }
   ],
   "source": [
    "pref_learning_array = np.array(pref_learning_list)\n",
    "maximal_value_array = np.array(maximal_value)\n",
    "qchosen = (pref_learning_array).nonzero()[0]\n",
    "qchosen_maximal_value = maximal_value_array[qchosen]\n",
    "dqchosen =(1-pref_learning_array).nonzero()[0]\n",
    "dqchosen_maximal_value = maximal_value_array[dqchosen]\n",
    "len(qchosen), len(qchosen_maximal_value), len(dqchosen), len(dqchosen_maximal_value)"
   ]
  },
  {
   "cell_type": "code",
   "execution_count": 63,
   "id": "xq2VH3LEgG0h",
   "metadata": {
    "colab": {
     "base_uri": "https://localhost:8080/",
     "height": 401
    },
    "id": "xq2VH3LEgG0h",
    "outputId": "8c57f2f4-6a21-4a7d-c2fa-0cc566a5c1bc"
   },
   "outputs": [
    {
     "data": {
      "image/png": "[encoded data removed]",
      "text/plain": [
       "<Figure size 1116x468 with 1 Axes>"
      ]
     },
     "metadata": {
      "needs_background": "light"
     },
     "output_type": "display_data"
    }
   ],
   "source": [
    "fig, ax = plt.subplots()\n",
    "red_dot, = ax.plot(dqchosen, dqchosen_maximal_value, \"ro\", markersize=5)\n",
    "blue_dot, = ax.plot(qchosen,qchosen_maximal_value, \"bo\",  markersize=1)\n",
    "\n",
    "ax.legend([red_dot, (red_dot, blue_dot)], [\"dq chosen\", \"q chosen\"])\n",
    "fig.set_size_inches(15.5, 6.5, forward=True)\n",
    "plt.show()"
   ]
  },
  {
   "cell_type": "code",
   "execution_count": 64,
   "id": "EaBbMCBQgpTx",
   "metadata": {
    "colab": {
     "base_uri": "https://localhost:8080/",
     "height": 282
    },
    "id": "EaBbMCBQgpTx",
    "outputId": "5b4e89f3-36d3-4deb-fca3-6353ad1c599a",
    "scrolled": true
   },
   "outputs": [
    {
     "data": {
      "image/png": "[encoded data removed]",
      "text/plain": [
       "<Figure size 432x288 with 1 Axes>"
      ]
     },
     "metadata": {
      "needs_background": "light"
     },
     "output_type": "display_data"
    }
   ],
   "source": [
    "plt.plot(pref_list)\n",
    "plt.show()"
   ]
  },
  {
   "cell_type": "code",
   "execution_count": 65,
   "id": "12ed3dd9",
   "metadata": {},
   "outputs": [
    {
     "data": {
      "text/plain": [
       "(0.9943486342923589,\n",
       " array([[0.        , 0.        , 0.        , 0.        , 0.        ,\n",
       "         0.        , 0.        , 0.        ],\n",
       "        [0.94990834, 1.01377671, 0.79991628, 0.6738608 , 0.81053364,\n",
       "         0.86224365, 0.89834405, 0.76808082],\n",
       "        [1.00135325, 0.        , 0.77815675, 0.87001215, 0.97861834,\n",
       "         0.79915856, 0.46147936, 0.78052918]]),\n",
       " array([[0.        , 0.        , 0.        , 0.        , 0.        ,\n",
       "         0.        , 0.        , 0.        ],\n",
       "        [0.89570217, 0.88924298, 0.85089371, 0.8058775 , 0.8520804 ,\n",
       "         0.71784247, 0.84130961, 1.00271538],\n",
       "        [0.98734402, 0.        , 0.6976312 , 0.06022547, 0.66676672,\n",
       "         0.67063787, 0.21038256, 0.1289263 ]]))"
      ]
     },
     "execution_count": 65,
     "metadata": {},
     "output_type": "execute_result"
    }
   ],
   "source": [
    "pref_list[-1], Qa, Qb"
   ]
  },
  {
   "cell_type": "code",
   "execution_count": 66,
   "id": "65bf0b46",
   "metadata": {},
   "outputs": [],
   "source": [
    "mu = -0.1\n",
    "P = {\n",
    "    0:{0: (0, 0, True)}, #state:{action: (reward, next state, terminal)}\n",
    "    1:{0: (mu, 0, True),\n",
    "       1: (mu, 0, True),\n",
    "       2: (mu, 0, True),\n",
    "       3: (mu, 0, True),\n",
    "       4: (mu, 0, True),\n",
    "       5: (mu, 0, True),\n",
    "       6: (mu, 0, True),\n",
    "       7: (mu, 0, True)}, \n",
    "    2:{0: (0, 1, False),\n",
    "       1: (0, 0, True)}\n",
    "}\n",
    "(reward_list, pref_list,\n",
    " pref_learning_list, Qa,\n",
    " Qb, maximal_value_a,\n",
    " maximal_value_b, maximal_value,\n",
    " return_dict) = train(2000, gamma, rewardnstate, act_functn, P)"
   ]
  },
  {
   "cell_type": "code",
   "execution_count": 67,
   "id": "52e02fd5",
   "metadata": {},
   "outputs": [
    {
     "data": {
      "text/plain": [
       "(-0.388746133774268,\n",
       " array([[ 0.        ,  0.        ,  0.        ,  0.        ,  0.        ,\n",
       "          0.        ,  0.        ,  0.        ],\n",
       "        [-0.85960688, -0.17637772, -0.11093266, -0.08224755, -0.09790261,\n",
       "         -0.08881615, -0.0168917 , -0.38243924],\n",
       "        [-0.35858936,  0.        ,  0.77815675,  0.87001215,  0.97861834,\n",
       "          0.79915856,  0.46147936,  0.78052918]]),\n",
       " array([[ 0.        ,  0.        ,  0.        ,  0.        ,  0.        ,\n",
       "          0.        ,  0.        ,  0.        ],\n",
       "        [ 0.02277352,  0.35513493,  0.02084556,  0.00584942, -0.32003123,\n",
       "         -0.77011908, -0.78206083,  0.07923611],\n",
       "        [-0.41890291,  0.        ,  0.6976312 ,  0.06022547,  0.66676672,\n",
       "          0.67063787,  0.21038256,  0.1289263 ]]))"
      ]
     },
     "execution_count": 67,
     "metadata": {},
     "output_type": "execute_result"
    }
   ],
   "source": [
    "pref_list[-1], Qa, Qb"
   ]
  },
  {
   "cell_type": "code",
   "execution_count": 68,
   "id": "3d8ca624",
   "metadata": {},
   "outputs": [
    {
     "data": {
      "text/plain": [
       "[<matplotlib.lines.Line2D at 0x11bd521a910>]"
      ]
     },
     "execution_count": 68,
     "metadata": {},
     "output_type": "execute_result"
    },
    {
     "data": {
      "image/png": "[encoded data removed]",
      "text/plain": [
       "<Figure size 432x288 with 1 Axes>"
      ]
     },
     "metadata": {
      "needs_background": "light"
     },
     "output_type": "display_data"
    }
   ],
   "source": [
    "plt.plot(pref_list)"
   ]
  },
  {
   "cell_type": "code",
   "execution_count": null,
   "id": "cd52b4ae",
   "metadata": {},
   "outputs": [],
   "source": []
  },
  {
   "cell_type": "code",
   "execution_count": 10,
   "id": "5ca45077",
   "metadata": {
    "colab": {
     "base_uri": "https://localhost:8080/",
     "height": 265
    },
    "id": "5ca45077",
    "outputId": "8c9b7f25-ec02-455f-96a2-8b9d980eaf65",
    "scrolled": true
   },
   "outputs": [
    {
     "data": {
      "image/png": "[encoded data removed]",
      "text/plain": [
       "<Figure size 432x288 with 1 Axes>"
      ]
     },
     "metadata": {
      "needs_background": "light"
     },
     "output_type": "display_data"
    }
   ],
   "source": [
    "props = {\n",
    "    \"width\": 1,\n",
    "    \"headwidth\": 10\n",
    "}\n",
    "plt.scatter( dqchosen, dqchosen_maximal_value, s= 10, c = \"orange\")\n",
    "plt.scatter(qchosen,qchosen_maximal_value, s= 10, c = \"red\" )\n",
    "plt.plot(maximal_value)\n",
    "plt.axhline(y = max(mu, 0), color = \"r\", linestyle = \"--\", linewidth = 1)\n",
    "#plt.annotate('y = %s' % round(maximal_value[-1], 4), xy=(50000, maximal_value[-1]), xytext=(100000, 5), arrowprops = props)\n",
    "plt.show()"
   ]
  },
  {
   "cell_type": "code",
   "execution_count": 11,
   "id": "F4PEYMAUaUu3",
   "metadata": {
    "colab": {
     "base_uri": "https://localhost:8080/",
     "height": 265
    },
    "id": "F4PEYMAUaUu3",
    "outputId": "664bab34-20ef-44a4-c47e-7cd1075c763b",
    "scrolled": true
   },
   "outputs": [
    {
     "data": {
      "image/png": "[encoded data removed]",
      "text/plain": [
       "<Figure size 432x288 with 1 Axes>"
      ]
     },
     "metadata": {
      "needs_background": "light"
     },
     "output_type": "display_data"
    }
   ],
   "source": [
    "props = {\n",
    "    \"width\": 1,\n",
    "    \"headwidth\": 10\n",
    "}\n",
    "plt.scatter( dqchosen, dqchosen_maximal_value, s= 10)\n",
    "plt.scatter(qchosen,qchosen_maximal_value, s= 10)\n",
    "plt.axhline(y = max(mu, 0), color = \"r\", linestyle = \"--\", linewidth = 1)\n",
    "#plt.annotate('y = %s' % round(maximal_value[-1], 4), xy=(50000, maximal_value[-1]), xytext=(100000, 5), arrowprops = props)\n",
    "plt.show()"
   ]
  },
  {
   "cell_type": "code",
   "execution_count": 324,
   "id": "390f7871",
   "metadata": {
    "id": "390f7871",
    "outputId": "ac8b1d75-5ad7-4355-ecda-19becee00ac0"
   },
   "outputs": [
    {
     "data": {
      "image/png": "[encoded data removed]",
      "text/plain": [
       "<Figure size 432x288 with 1 Axes>"
      ]
     },
     "metadata": {
      "needs_background": "light"
     },
     "output_type": "display_data"
    }
   ],
   "source": [
    "props = {\n",
    "    \"width\": 1,\n",
    "    \"headwidth\": 10\n",
    "}\n",
    "plt.plot(maximal_value_b)\n",
    "plt.axhline(y = max(mu, 0), color = \"r\", linestyle = \"--\", linewidth = 1)\n",
    "#plt.annotate('y = %s' % round(maximal_value[-1], 4), xy=(50000, maximal_value[-1]), xytext=(100000, 5), arrowprops = props)\n",
    "plt.show()"
   ]
  },
  {
   "cell_type": "code",
   "execution_count": null,
   "id": "83513606",
   "metadata": {
    "colab": {
     "base_uri": "https://localhost:8080/",
     "height": 265
    },
    "id": "83513606",
    "outputId": "d75ad498-4527-4847-f6e9-0dbfd0a0b889",
    "scrolled": true
   },
   "outputs": [
    {
     "data": {
      "image/png": "[encoded data removed]",
      "text/plain": [
       "<Figure size 432x288 with 1 Axes>"
      ]
     },
     "metadata": {
      "needs_background": "light"
     },
     "output_type": "display_data"
    }
   ],
   "source": [
    "Q"
   ]
  },
  {
   "cell_type": "code",
   "execution_count": null,
   "id": "1c793f46",
   "metadata": {
    "id": "1c793f46"
   },
   "outputs": [],
   "source": []
  }
 ],
 "metadata": {
  "colab": {
   "collapsed_sections": [],
   "name": "Switch_between_Q_and_Double_Qlearning.ipynb",
   "provenance": []
  },
  "kernelspec": {
   "display_name": "Python 3",
   "language": "python",
   "name": "python3"
  },
  "language_info": {
   "codemirror_mode": {
    "name": "ipython",
    "version": 3
   },
   "file_extension": ".py",
   "mimetype": "text/x-python",
   "name": "python",
   "nbconvert_exporter": "python",
   "pygments_lexer": "ipython3",
   "version": "3.8.8"
  }
 },
 "nbformat": 4,
 "nbformat_minor": 5
}
