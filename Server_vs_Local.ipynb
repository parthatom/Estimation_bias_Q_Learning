{
 "cells": [
  {
   "cell_type": "code",
   "execution_count": 35,
   "metadata": {},
   "outputs": [],
   "source": [
    "import numpy as np\n",
    "import matplotlib.pyplot as plt\n",
    "import statistics as stat "
   ]
  },
  {
   "cell_type": "code",
   "execution_count": 30,
   "metadata": {},
   "outputs": [],
   "source": [
    "B = 512;C = 10000;W = 1.4 * pow(10,6)\n",
    "w_I = w_M = pow(10,-30)\n",
    "f_I = pow(10,7);f_M = pow(10,12)\n",
    "N_0 = -132.24;P = 0.5 \n",
    "\n",
    "def arrival_and_departure_times(param1,param2,N):\n",
    "    a = []\n",
    "    d = []\n",
    "    s = 0\n",
    "    for i in range(N):\n",
    "        s = s + np.random.exponential(param1)\n",
    "        a.append(s)\n",
    "    for i in range(N):\n",
    "        d.append(a[i] + np.random.exponential(param2))\n",
    "    return (a,d)\n",
    "\n",
    "def local_cost():\n",
    "    return ((B*C)/f_i);\n",
    "\n",
    "def server_cost(n):\n",
    "    h_g_2 = np.random.exponential(1/0.19)\n",
    "    R = W * np.log2(1 + P*h_g_2/N_0)\n",
    "    return (B/R + B*C*n/f_M)"
   ]
  },
  {
   "cell_type": "code",
   "execution_count": null,
   "metadata": {},
   "outputs": [],
   "source": [
    "def simulate(N):\n",
    "    mu = 1;lamda = 1\n",
    "    (arrivals,departures) = arrival_and_departure_times(mu,lamda,N)\n",
    "    for i in range(N):\n",
    "        "
   ]
  },
  {
   "cell_type": "code",
   "execution_count": null,
   "metadata": {},
   "outputs": [],
   "source": []
  },
  {
   "cell_type": "code",
   "execution_count": null,
   "metadata": {},
   "outputs": [],
   "source": []
  }
 ],
 "metadata": {
  "kernelspec": {
   "display_name": "Python 3",
   "language": "python",
   "name": "python3"
  },
  "language_info": {
   "codemirror_mode": {
    "name": "ipython",
    "version": 3
   },
   "file_extension": ".py",
   "mimetype": "text/x-python",
   "name": "python",
   "nbconvert_exporter": "python",
   "pygments_lexer": "ipython3",
   "version": "3.7.3"
  }
 },
 "nbformat": 4,
 "nbformat_minor": 2
}
