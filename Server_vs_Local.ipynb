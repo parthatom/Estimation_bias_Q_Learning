{
 "cells": [
  {
   "cell_type": "code",
   "execution_count": 2,
   "metadata": {},
   "outputs": [],
   "source": [
    "import numpy as np\n",
    "import matplotlib.pyplot as plt\n",
    "import statistics as stat "
   ]
  },
  {
   "cell_type": "code",
   "execution_count": 3,
   "metadata": {},
   "outputs": [],
   "source": [
    "B = 512;C = 10000;W = 1.4 * pow(10,6)\n",
    "w_I = w_M = pow(10,-30)\n",
    "f_I = pow(10,7);f_M = pow(10,12)\n",
    "N_0 = -132.24;P = 0.5 \n",
    "\n",
    "def arrival_and_departure_times(param1,param2,N):\n",
    "    a = []\n",
    "    d = []\n",
    "    s = 0\n",
    "    for i in range(N):\n",
    "        s = s + np.random.exponential(param1)\n",
    "        a.append(s)\n",
    "    for i in range(N):\n",
    "        d.append(a[i] + np.random.exponential(param2))\n",
    "    return (np.array(a),np.array(d))\n",
    "\n",
    "def local_cost():\n",
    "    return ((B*C)/f_I);\n",
    "\n",
    "def server_cost(n):\n",
    "    h_g_2 = np.random.exponential(1/0.19)\n",
    "    R = W * np.log2(1 + P*h_g_2/N_0)\n",
    "    return (B/R + B*C*n/f_M)\n"
   ]
  },
  {
   "cell_type": "code",
   "execution_count": null,
   "metadata": {},
   "outputs": [],
   "source": [
    "def next_state(local_pos,server_pos,action):\n",
    "    if local_pos != 10:\n",
    "        "
   ]
  },
  {
   "cell_type": "code",
   "execution_count": null,
   "metadata": {},
   "outputs": [],
   "source": [
    "def Server_SwitchQ_learning(N,gamma):\n",
    "    reward_list = []\n",
    "    return_dict[i]\n",
    "    reward_sum = 0\n",
    "    count = 0\n",
    "    pref_list = []\n",
    "    Q = np.zeros((10,10,2))\n",
    "    Qa = np.zeros((10,10,2))\n",
    "    Qb = np.zeros((10,10,2))\n",
    "    freq = np.ones((10,10))\n",
    "    freq_action = np.ones((10,10,2))\n",
    "    for episode in range(N):\n",
    "        local_pos = 0\n",
    "        server_pos = 0\n",
    "        eps = 1/np.sqrt(freq[local_pos,server_pos])\n",
    "        action = np.random.choice([np.argmax(Q[local_pos,server_pos]),np.random.choice([0,1])],p = [1 - eps,eps])\n",
    "            if(len(return_dict[local_pos,server_pos,action]) >= 2):\n",
    "                if(np.var(return_dict[local_pos,server_pos,action]) < 121):\n",
    "                    if np.random.choice([True,False]):\n",
    "                        action = np.random.choice([np.argmax(Qa[local_pos,server_pos]),np.random.choice([0,1,])],p = [1 - eps,eps])\n",
    "                    else:\n",
    "                        action = np.random.choice([np.argmax(Qb[local_pos,server_pos]),np.random.choice([0,1])],p = [1 - eps,eps])\n",
    "                    (local_pos,server_pos,reward) = next_state(local_pos,server_pos,action)\n",
    "                    newpos\n",
    "                    reward_sum = reward_sum + reward\n",
    "                    count = count + 1\n",
    "                    alpha = 1/np.power(freqnum[pos, action],0.8)\n",
    "                    if np.random.choice([True,False]):\n",
    "                        Qa[n,action] = Qa[n,action] + alpha*(reward + gamma*Qb[n + 1,np.argmax(Qa[newpos])] - Qa[n,action])\n",
    "                    else:\n",
    "                        Qb[n,action] = Qb[n,action] + alpha*(reward + gamma*Qa[n + 1,np.argmax(Qb[newpos])] - Qb[n,action])\n",
    "                    freq[pos] = freq[pos] + 1\n",
    "                    freqnum[pos,action] = freqnum[pos,action] + 1 \n",
    "                    pref_list.append(0)\n",
    "                else:\n",
    "                    (newpos,reward) = next_state(pos,action)\n",
    "                    reward_sum = reward_sum + reward\n",
    "                    count = count + 1\n",
    "                    alpha = 1/np.power(freqnum[pos, action],0.8)\n",
    "                    Q[pos,action] = Q[pos,action] + alpha*(reward + gamma*np.max(Q[newpos]) - Q[pos,action])\n",
    "                    freq[pos] = freq[pos] + 1\n",
    "                    freqnum[pos,action] = freqnum[pos,action] + 1 \n",
    "                    pref_list.append(1)\n",
    "            else:\n",
    "                (newpos,reward) = next_state(pos,action)\n",
    "                reward_sum = reward_sum + reward\n",
    "                count = count + 1\n",
    "                alpha = 1/np.power(freqnum[pos, action],0.8)\n",
    "                Q[pos,action] = Q[pos,action] + alpha*(reward + gamma*np.max(Q[newpos]) - Q[pos,action])\n",
    "                freq[pos] = freq[pos] + 1\n",
    "                freqnum[pos,action] = freqnum[pos,action] + 1 \n",
    "                pref_list.append(1)\n",
    "            print(pref_list[-1])\n",
    "            return_dict[pos][action].append(reward)\n",
    "            pos = newpos    \n",
    "        reward_list.append(reward_sum/count)\n",
    "        print(episode)\n",
    "            "
   ]
  },
  {
   "cell_type": "code",
   "execution_count": null,
   "metadata": {},
   "outputs": [],
   "source": []
  },
  {
   "cell_type": "code",
   "execution_count": null,
   "metadata": {},
   "outputs": [],
   "source": [
    "mu = 1;lamda = 1\n",
    "(arrivals,departures) = arrival_and_departure_times(mu,lamda,N)\n",
    "for i in range(N):\n",
    "    n = ((departures > arrivals[i]) & (arrivals < arrivals[i])).sum()\n",
    "    "
   ]
  },
  {
   "cell_type": "code",
   "execution_count": null,
   "metadata": {},
   "outputs": [],
   "source": []
  }
 ],
 "metadata": {
  "kernelspec": {
   "display_name": "Python 3",
   "language": "python",
   "name": "python3"
  },
  "language_info": {
   "codemirror_mode": {
    "name": "ipython",
    "version": 3
   },
   "file_extension": ".py",
   "mimetype": "text/x-python",
   "name": "python",
   "nbconvert_exporter": "python",
   "pygments_lexer": "ipython3",
   "version": "3.7.3"
  }
 },
 "nbformat": 4,
 "nbformat_minor": 2
}
