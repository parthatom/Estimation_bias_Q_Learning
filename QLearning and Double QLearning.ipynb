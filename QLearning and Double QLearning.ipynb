{
 "cells": [
  {
   "cell_type": "code",
   "execution_count": 150,
   "id": "2fb96d1b",
   "metadata": {},
   "outputs": [],
   "source": [
    "import numpy as np\n",
    "import matplotlib.pyplot as plt"
   ]
  },
  {
   "cell_type": "code",
   "execution_count": 151,
   "id": "cc71e732",
   "metadata": {},
   "outputs": [],
   "source": [
    "alpha = 0.01\n",
    "p = 0.8\n",
    "gamma = 1\n",
    "epochs = 2000"
   ]
  },
  {
   "cell_type": "code",
   "execution_count": 152,
   "id": "be914744",
   "metadata": {},
   "outputs": [],
   "source": [
    "def rewardnstate(a, s):\n",
    "    r, state, terminal = P[s][a]\n",
    "    if s==1:\n",
    "        r = r + np.random.uniform(-1, 1)\n",
    "    return r, state, terminal\n",
    "\n",
    "def act_functn(Q, state, state_visits, nAfes):\n",
    "    #eps = 0.2\n",
    "    #eps = 1/np.power(state_visits[state], 0.2)\n",
    "    eps = 1/np.sqrt(state_visits[state])\n",
    "    if np.random.choice([True, False], p=[1-eps, eps]):\n",
    "        action = np.argmax(Q[state, :nAfes[state]])\n",
    "    else:\n",
    "        action = np.random.choice(nAfes[state])\n",
    "    return action\n",
    "\n"
   ]
  },
  {
   "cell_type": "markdown",
   "id": "4c0eb53a",
   "metadata": {},
   "source": [
    "# Qlearning"
   ]
  },
  {
   "cell_type": "code",
   "execution_count": 185,
   "id": "db440836",
   "metadata": {},
   "outputs": [],
   "source": [
    "mu = 1\n",
    "nS, nA = 3, 8\n",
    "nAfes = [1, 8, 2]\n",
    "start_state = 2\n",
    "\n",
    "P = {\n",
    "    0:{0: (0, 0, True)}, #state:{action: (reward, next state, terminal)}\n",
    "    1:{0: (mu, 0, True),\n",
    "       1: (mu, 0, True),\n",
    "       2: (mu, 0, True),\n",
    "       3: (mu, 0, True),\n",
    "       4: (mu, 0, True),\n",
    "       5: (mu, 0, True),\n",
    "       6: (mu, 0, True),\n",
    "       7: (mu, 0, True)}, \n",
    "    2:{0: (0, 1, False),\n",
    "       1: (0, 0, True)}\n",
    "}"
   ]
  },
  {
   "cell_type": "code",
   "execution_count": 186,
   "id": "5d67fa41",
   "metadata": {},
   "outputs": [],
   "source": [
    "maximal_value = []\n",
    "np.random.seed(3)\n",
    "count_matrix = np.ones([nS, nA])\n",
    "Q = np.random.random([nS, nA])-1\n",
    "Q[0] = 0\n",
    "state_visits = np.ones(nS)\n",
    "pref_list = []\n",
    "for i in range(5000):\n",
    "    state = start_state\n",
    "    terminal = False\n",
    "    while(not terminal):\n",
    "        action = act_functn(Q, state, state_visits, nAfes)\n",
    "        reward, next_state, terminal = rewardnstate(action, state)\n",
    "        alpha = 1/np.power(count_matrix[state, action], p)\n",
    "        Q[state, action] += alpha*(reward + gamma*np.max(Q[next_state, :nAfes[next_state]]) - Q[state, action])\n",
    "        count_matrix[state, action] += 1\n",
    "        state_visits[state] += 1\n",
    "        maximal_value.append(np.max(Q[start_state, :nAfes[start_state]]))\n",
    "        state = next_state\n",
    "    pref_list.append(Q[start_state, 0]-Q[start_state, 1])"
   ]
  },
  {
   "cell_type": "code",
   "execution_count": 187,
   "id": "d415bab1",
   "metadata": {
    "scrolled": true
   },
   "outputs": [
    {
     "data": {
      "image/png": "[encoded data removed]",
      "text/plain": [
       "<Figure size 640x480 with 1 Axes>"
      ]
     },
     "metadata": {},
     "output_type": "display_data"
    },
    {
     "name": "stdout",
     "output_type": "stream",
     "text": [
      "1.0024571031063871\n"
     ]
    }
   ],
   "source": [
    "plt.plot(pref_list)\n",
    "plt.show()\n",
    "print(pref_list[-1])"
   ]
  },
  {
   "cell_type": "markdown",
   "id": "5840f58e",
   "metadata": {},
   "source": [
    "# mu = 1, mu = -1\n",
    "# 0.9998, -0.6611 1000 epochs\n",
    "# 0.9932, -0.7670 3000 epochs\n",
    "# 1.0008, -0.7929 5000 epochs"
   ]
  },
  {
   "cell_type": "markdown",
   "id": "c4389b2e",
   "metadata": {},
   "source": [
    "# Double Qlearning"
   ]
  },
  {
   "cell_type": "code",
   "execution_count": 182,
   "id": "dcee9219",
   "metadata": {},
   "outputs": [],
   "source": [
    "mu = -1\n",
    "nS, nA = 3, 8\n",
    "nAfes = [1, 8, 2]\n",
    "start_state = 2\n",
    "\n",
    "P = {\n",
    "    0:{0: (0, 0, True)}, #state:{action: (reward, next state, terminal)}\n",
    "    1:{0: (mu, 0, True),\n",
    "       1: (mu, 0, True),\n",
    "       2: (mu, 0, True),\n",
    "       3: (mu, 0, True),\n",
    "       4: (mu, 0, True),\n",
    "       5: (mu, 0, True),\n",
    "       6: (mu, 0, True),\n",
    "       7: (mu, 0, True)}, \n",
    "    2:{0: (0, 1, False),\n",
    "       1: (0, 0, True)}\n",
    "}"
   ]
  },
  {
   "cell_type": "code",
   "execution_count": 183,
   "id": "51608dbb",
   "metadata": {},
   "outputs": [],
   "source": [
    "maximal_value_a = []\n",
    "maximal_value_b = []\n",
    "np.random.seed(0)\n",
    "count_matrix_a = np.ones([nS, nA])\n",
    "count_matrix_b = np.ones([nS, nA])\n",
    "Qa = np.random.random([nS, nA])\n",
    "Qb = np.random.random([nS, nA])\n",
    "Qa[0], Qb[0] = 0, 0\n",
    "state_visits = np.ones(nS)\n",
    "pref_list = []\n",
    "for i in range(500):\n",
    "    state = start_state\n",
    "    terminal = False\n",
    "    while(not terminal):\n",
    "        action = act_functn(Qa if np.random.choice(2) else Qb, state, state_visits, nAfes)\n",
    "        reward, next_state, terminal = rewardnstate(action, state)\n",
    "        if(np.random.choice(2)):\n",
    "            alpha_a = 1/np.power(count_matrix_a[state, action], p)\n",
    "            action_star = np.argmax(Qa[next_state, :nAfes[next_state]])\n",
    "            Qa[state, action] += alpha_a*(reward + gamma*Qb[next_state, action_star] - Qa[state, action])\n",
    "            count_matrix_a[state, action] += 1\n",
    "            state_visits[state] += 1\n",
    "            maximal_value_a.append(np.max(Qa[start_state, :nAfes[start_state]]))\n",
    "        else:\n",
    "            alpha_b = 1/np.power(count_matrix_b[state, action], p)\n",
    "            action_star = np.argmax(Qb[next_state, :nAfes[next_state]])\n",
    "            Qb[state, action] += alpha_b*(reward + gamma*Qa[next_state, action_star] - Qb[state, action])\n",
    "            count_matrix_b[state, action] += 1\n",
    "            state_visits[state] += 1\n",
    "            maximal_value_b.append(np.max(Qb[start_state, :nAfes[start_state]]))\n",
    "        state = next_state\n",
    "    pref_list.append((Qa[start_state, 0]+Qb[start_state, 0]-Qa[start_state, 1]-Qb[start_state, 1])/2)"
   ]
  },
  {
   "cell_type": "code",
   "execution_count": 184,
   "id": "b600899b",
   "metadata": {},
   "outputs": [
    {
     "data": {
      "image/png": "[encoded data removed]",
      "text/plain": [
       "<Figure size 640x480 with 1 Axes>"
      ]
     },
     "metadata": {},
     "output_type": "display_data"
    },
    {
     "name": "stdout",
     "output_type": "stream",
     "text": [
      "-1.0648523521741562\n"
     ]
    }
   ],
   "source": [
    "plt.plot(pref_list)\n",
    "plt.show()\n",
    "print(pref_list[-1])"
   ]
  },
  {
   "cell_type": "markdown",
   "id": "b11f7309",
   "metadata": {},
   "source": [
    "# mu = 1, mu = -1\n",
    "# 1.0131, -0.9032\n",
    "# 0.9673, -0.9158\n",
    "# 1.0065, -0.9677"
   ]
  },
  {
   "cell_type": "code",
   "execution_count": null,
   "id": "969b8137",
   "metadata": {},
   "outputs": [],
   "source": []
  }
 ],
 "metadata": {
  "kernelspec": {
   "display_name": "Python 3 (ipykernel)",
   "language": "python",
   "name": "python3"
  },
  "language_info": {
   "codemirror_mode": {
    "name": "ipython",
    "version": 3
   },
   "file_extension": ".py",
   "mimetype": "text/x-python",
   "name": "python",
   "nbconvert_exporter": "python",
   "pygments_lexer": "ipython3",
   "version": "3.10.7"
  }
 },
 "nbformat": 4,
 "nbformat_minor": 5
}
