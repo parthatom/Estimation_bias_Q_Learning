{
 "cells": [
  {
   "cell_type": "code",
   "execution_count": 31,
   "metadata": {},
   "outputs": [],
   "source": [
    "import numpy as np\n",
    "import matplotlib.pyplot as plt\n",
    "import statistics as stat "
   ]
  },
  {
   "cell_type": "code",
   "execution_count": 32,
   "metadata": {},
   "outputs": [],
   "source": [
    "B = 512;C = 10000;W = 1.4 * pow(10,6)\n",
    "w_I = w_M = pow(10,-30)\n",
    "f_I = pow(10,7);f_M = pow(10,12)\n",
    "N_0 = -132.24;P = 0.5 \n",
    "\n",
    "def arrival_and_departure_times(param1,param2,N):\n",
    "    a = []\n",
    "    d = []\n",
    "    s = 0\n",
    "    for i in range(N):\n",
    "        s = s + np.random.exponential(param1)\n",
    "        a.append(s)\n",
    "    for i in range(N):\n",
    "        d.append(a[i] + np.random.exponential(param2))\n",
    "    return (np.array(a),np.array(d))\n",
    "\n",
    "def local_cost():\n",
    "    return ((B*C)/f_I)\n",
    "\n",
    "def cloud_cost(n):\n",
    "    h_g_2 = np.random.exponential(1/0.19)\n",
    "    R = W * np.log2(1 + P*h_g_2/N_0)\n",
    "    return (B/R + B*C*n/f_M)\n",
    "\n",
    "def next_state(local_pos,cloud_pos,action):\n",
    "    if action == 0:\n",
    "        (new_local_pos,new_cloud_pos,reward) = (local_pos + 1,cloud_pos,-local_cost())\n",
    "    else:\n",
    "        (new_local_pos,new_cloud_pos,reward) = (local_pos,cloud_pos + 1,-cloud_cost(cloud_pos));\n",
    "    return  (new_local_pos,new_cloud_pos,reward);\n"
   ]
  },
  {
   "cell_type": "code",
   "execution_count": 37,
   "metadata": {},
   "outputs": [],
   "source": [
    "\n",
    "def Server_Q_learning(N,gamma):\n",
    "    limit = 10\n",
    "    reward_list = []\n",
    "    reward_sum = 0\n",
    "    count = 0\n",
    "    Qa = np.zeros((10,10,2))\n",
    "    freq = np.ones((10,10))\n",
    "    freq_action = np.ones((10,10,2))\n",
    "    local_actions = np.array([False]*limit)\n",
    "    cloud_actions = np.array([False]*limit)\n",
    "    mu = 1;lamda = 1\n",
    "    (arrivals,departures) = arrival_and_departure_times(mu,lamda,N)\n",
    "    local_pos = 0;cloud_pos = 0\n",
    "    for i in range(N):\n",
    "        local_pos = ((departures > arrivals[i]) & (arrivals < arrivals[i]) & (local_actions)).sum()\n",
    "        cloud_pos = ((departures > arrivals[i]) & (arrivals < arrivals[i]) & (cloud_actions)).sum()\n",
    "        eps = 1/np.sqrt(freq[local_pos,cloud_pos])\n",
    "        action = np.random.choice([np.argmax(Qa[local_pos,cloud_pos]),np.random.choice([0,1])],p = [1 - eps,eps])\n",
    "        if local_pos == limit:\n",
    "            action = 1\n",
    "        if cloud_pos == limit:\n",
    "            action = 0        \n",
    "        if action == 0:\n",
    "            local_actions[i] = 1\n",
    "        if action == 1:\n",
    "            cloud_actions[i] = 1\n",
    "        (new_local_pos,new_cloud_pos,reward) = next_state(local_pos,cloud_pos,action)\n",
    "        reward_sum = reward_sum + reward\n",
    "        count = count + 1\n",
    "        alpha = 1/np.power(freq_action[local_pos,cloud_pos, action],0.8)\n",
    "        Qa[local_pos,cloud_pos,action] = Qa[local_pos,cloud_pos,action] + alpha*(reward + gamma*np.max(Qa[new_local_pos,new_cloud_pos]) - Qa[local_pos,cloud_pos,action])\n",
    "        freq[local_pos,cloud_pos] = freq[local_pos,cloud_pos] + 1\n",
    "        freq_action[local_pos,cloud_pos,action] = freq_action[local_pos,cloud_pos,action] + 1     \n",
    "        reward_list.append(reward_sum/count)\n",
    "    return reward_list"
   ]
  },
  {
   "cell_type": "code",
   "execution_count": 40,
   "metadata": {},
   "outputs": [
    {
     "name": "stdout",
     "output_type": "stream",
     "text": [
      "0\n",
      "1\n",
      "2\n",
      "3\n",
      "4\n",
      "5\n",
      "6\n",
      "7\n",
      "8\n",
      "9\n"
     ]
    },
    {
     "data": {
      "text/plain": [
       "[-0.512,\n",
       " -0.24895148497874708,\n",
       " -0.161942688243276,\n",
       " -0.11507820536760138,\n",
       " -0.08977460405095408,\n",
       " -0.07209717679410696,\n",
       " -0.058819273148088824,\n",
       " -0.04883654310037944,\n",
       " -0.1002991494225595,\n",
       " -0.08967449611398079]"
      ]
     },
     "execution_count": 40,
     "metadata": {},
     "output_type": "execute_result"
    }
   ],
   "source": [
    "Server_Q_learning(100,0.05)"
   ]
  },
  {
   "cell_type": "code",
   "execution_count": null,
   "metadata": {},
   "outputs": [],
   "source": []
  },
  {
   "cell_type": "code",
   "execution_count": 5,
   "metadata": {},
   "outputs": [
    {
     "data": {
      "text/plain": [
       "numpy.ndarray"
      ]
     },
     "execution_count": 5,
     "metadata": {},
     "output_type": "execute_result"
    }
   ],
   "source": []
  },
  {
   "cell_type": "code",
   "execution_count": 2,
   "metadata": {},
   "outputs": [
    {
     "data": {
      "text/plain": [
       "20"
      ]
     },
     "execution_count": 2,
     "metadata": {},
     "output_type": "execute_result"
    }
   ],
   "source": []
  },
  {
   "cell_type": "code",
   "execution_count": null,
   "metadata": {},
   "outputs": [],
   "source": []
  }
 ],
 "metadata": {
  "kernelspec": {
   "display_name": "Python 3",
   "language": "python",
   "name": "python3"
  },
  "language_info": {
   "codemirror_mode": {
    "name": "ipython",
    "version": 3
   },
   "file_extension": ".py",
   "mimetype": "text/x-python",
   "name": "python",
   "nbconvert_exporter": "python",
   "pygments_lexer": "ipython3",
   "version": "3.11.0"
  },
  "orig_nbformat": 4
 },
 "nbformat": 4,
 "nbformat_minor": 2
}
