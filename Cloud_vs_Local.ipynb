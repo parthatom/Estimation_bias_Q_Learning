{
 "cells": [
  {
   "cell_type": "code",
   "execution_count": 94,
   "metadata": {},
   "outputs": [],
   "source": [
    "import numpy as np\n",
    "import matplotlib.pyplot as plt\n",
    "import statistics as stat "
   ]
  },
  {
   "cell_type": "code",
   "execution_count": 212,
   "metadata": {},
   "outputs": [],
   "source": [
    "B = 512;C = 10000;W = 1.4 * pow(10,6)\n",
    "#w_I = w_M = pow(10,-30)\n",
    "f_I = pow(10,12);f_M = pow(10,12)\n",
    "N_0 = pow(10,-16);P = 0.5 \n",
    "\n",
    "def arrival_and_departure_times(param1,param2,N):\n",
    "    a = []\n",
    "    d = []\n",
    "    s = 0\n",
    "    for i in range(N):\n",
    "        s = s + np.random.exponential(param1)\n",
    "        a.append(s)\n",
    "    for i in range(N):\n",
    "        d.append(a[i] + np.random.exponential(param2))\n",
    "    return (np.array(a),np.array(d))\n",
    "\n",
    "def local_cost():\n",
    "    return ((B*C)/f_I)\n",
    "\n",
    "def cloud_cost(n):\n",
    "    h_g_2 = np.random.exponential(0.19)\n",
    "    R = W * np.log2(1 + P*h_g_2/N_0)\n",
    "    return (B/R + B*C*n/f_M)\n",
    "\n",
    "def next_state(local_pos,cloud_pos,action):\n",
    "    if action == 0:\n",
    "        (new_local_pos,new_cloud_pos,reward) = (local_pos + 1,cloud_pos,-local_cost())\n",
    "    else:\n",
    "        (new_local_pos,new_cloud_pos,reward) = (local_pos,cloud_pos + 1,-cloud_cost(cloud_pos))\n",
    "    return  (new_local_pos,new_cloud_pos,reward)\n"
   ]
  },
  {
   "cell_type": "code",
   "execution_count": null,
   "metadata": {},
   "outputs": [],
   "source": []
  },
  {
   "cell_type": "code",
   "execution_count": 213,
   "metadata": {},
   "outputs": [
    {
     "data": {
      "text/plain": [
       "5.12e-06"
      ]
     },
     "execution_count": 213,
     "metadata": {},
     "output_type": "execute_result"
    }
   ],
   "source": [
    "local_cost()"
   ]
  },
  {
   "cell_type": "code",
   "execution_count": 202,
   "metadata": {},
   "outputs": [
    {
     "name": "stdout",
     "output_type": "stream",
     "text": [
      "3.2840944927992336e-05\n",
      "3.295353584261593e-05\n",
      "3.318323593648025e-05\n",
      "1.2857053318147297e-05\n",
      "1.3049235274447004e-05\n",
      "1.3152649060791306e-05\n"
     ]
    }
   ],
   "source": [
    "print(cloud_cost(5))\n",
    "print(cloud_cost(5))\n",
    "print(cloud_cost(5))\n",
    "print(cloud_cost(1))\n",
    "print(cloud_cost(1))\n",
    "print(cloud_cost(1))"
   ]
  },
  {
   "cell_type": "code",
   "execution_count": 214,
   "metadata": {},
   "outputs": [],
   "source": [
    "def Server_Q_learning():\n",
    "    N = 1000\n",
    "    gamma = 0.5\n",
    "    n = 50\n",
    "    reward_list = []\n",
    "    reward_sum_list = []\n",
    "    reward_sum = 0\n",
    "    count = 0\n",
    "    mu = 1/20;lamda = 1\n",
    "    Qa = np.zeros((n,n,2))\n",
    "    freq = np.ones((n,n))\n",
    "    freq_action = np.ones((n,n,2))\n",
    "    (arrivals,departures) = arrival_and_departure_times(mu,lamda,N)\n",
    "    local_pos = 0;cloud_pos = 0\n",
    "    for ind in range(100):\n",
    "        local_actions = np.array([False]*N)\n",
    "        cloud_actions = np.array([False]*N)\n",
    "        for i in range(N):\n",
    "            local_pos = ((departures > arrivals[i]) & (arrivals < arrivals[i]) & (local_actions)).sum()\n",
    "            cloud_pos = ((departures > arrivals[i]) & (arrivals < arrivals[i]) & (cloud_actions)).sum()\n",
    "            eps = 1/np.sqrt(freq[local_pos,cloud_pos])\n",
    "            action = np.random.choice([np.argmax(Qa[local_pos,cloud_pos]),np.random.choice([0,1])],p = [1 - eps,eps])\n",
    "            if local_pos == n:\n",
    "                action = 1\n",
    "            if cloud_pos == n:\n",
    "                action = 0        \n",
    "            if action == 0:\n",
    "                local_actions[i] = 1\n",
    "            if action == 1:\n",
    "                cloud_actions[i] = 1\n",
    "            (new_local_pos,new_cloud_pos,reward) = next_state(local_pos,cloud_pos,action)\n",
    "            reward_sum = reward_sum + reward\n",
    "            count = count + 1\n",
    "            alpha = 1/np.power(freq_action[local_pos,cloud_pos, action],0.8)\n",
    "            Qa[local_pos,cloud_pos,action] = Qa[local_pos,cloud_pos,action] + alpha*(reward + gamma*np.max(Qa[new_local_pos,new_cloud_pos]) - Qa[local_pos,cloud_pos,action])\n",
    "            freq[local_pos,cloud_pos] = freq[local_pos,cloud_pos] + 1\n",
    "            freq_action[local_pos,cloud_pos,action] = freq_action[local_pos,cloud_pos,action] + 1     \n",
    "            reward_list.append(reward)\n",
    "        reward_sum_list.append(reward_sum/count)\n",
    "    return reward_list,reward_sum_list,local_actions"
   ]
  },
  {
   "cell_type": "code",
   "execution_count": 215,
   "metadata": {},
   "outputs": [],
   "source": [
    "reward_list,rewardsum_list,local_actions = Server_Q_learning()"
   ]
  },
  {
   "cell_type": "code",
   "execution_count": 216,
   "metadata": {},
   "outputs": [
    {
     "data": {
      "text/plain": [
       "[<matplotlib.lines.Line2D at 0x11a129cef50>]"
      ]
     },
     "execution_count": 216,
     "metadata": {},
     "output_type": "execute_result"
    },
    {
     "data": {
      "image/png": "[encoded data removed]",
      "text/plain": [
       "<Figure size 640x480 with 1 Axes>"
      ]
     },
     "metadata": {},
     "output_type": "display_data"
    }
   ],
   "source": [
    "plt.plot(rewardsum_list)"
   ]
  },
  {
   "cell_type": "code",
   "execution_count": 217,
   "metadata": {},
   "outputs": [],
   "source": [
    "def Server_DoubleQ_learning():\n",
    "    N = 500\n",
    "    gamma = 0.5\n",
    "    n = 50\n",
    "    reward_list = []\n",
    "    reward_sum_list = []\n",
    "    reward_sum = 0\n",
    "    count = 0\n",
    "    mu = 1/20;lamda = 1\n",
    "    Qa = np.zeros((n,n,2))\n",
    "    Qb = np.zeros((n,n,2))\n",
    "    freq = np.ones((n,n))\n",
    "    freq_action = np.ones((n,n,2))\n",
    "    (arrivals,departures) = arrival_and_departure_times(mu,lamda,N)\n",
    "    local_pos = 0;cloud_pos = 0\n",
    "    for ind in range(100):\n",
    "        local_actions = np.array([False]*N)\n",
    "        cloud_actions = np.array([False]*N)\n",
    "        for i in range(N):\n",
    "            local_pos = ((departures > arrivals[i]) & (arrivals < arrivals[i]) & (local_actions)).sum()\n",
    "            cloud_pos = ((departures > arrivals[i]) & (arrivals < arrivals[i]) & (cloud_actions)).sum()\n",
    "                        \n",
    "            eps = 1/np.sqrt(freq[local_pos,cloud_pos])\n",
    "            if np.random.choice([True,False]):\n",
    "                action = np.random.choice([np.argmax(Qa[local_pos,cloud_pos]),np.random.choice([0,1])],p = [1 - eps,eps])\n",
    "            else:\n",
    "                action = np.random.choice([np.argmax(Qb[local_pos,cloud_pos]),np.random.choice([0,1])],p = [1 - eps,eps])\n",
    "            if local_pos == n:\n",
    "                action = 1\n",
    "            if cloud_pos == n:\n",
    "                action = 0        \n",
    "            if action == 0:\n",
    "                local_actions[i] = 1\n",
    "            if action == 1:\n",
    "                cloud_actions[i] = 1\n",
    "            (new_local_pos,new_cloud_pos,reward) = next_state(local_pos,cloud_pos,action)\n",
    "            reward_sum = reward_sum + reward\n",
    "            count = count + 1\n",
    "            alpha = 1/np.power(freq_action[local_pos,cloud_pos, action],0.8)\n",
    "            if np.random.choice([True,False]):\n",
    "                Qa[local_pos,cloud_pos,action] = Qa[local_pos,cloud_pos,action] + alpha*(reward + gamma*Qb[local_pos,cloud_pos,np.argmax(Qa[new_local_pos,new_cloud_pos])] - Qa[local_pos,cloud_pos,action])\n",
    "            else:\n",
    "                Qb[local_pos,cloud_pos,action] = Qb[local_pos,cloud_pos,action] + alpha*(reward + gamma*Qa[local_pos,cloud_pos,np.argmax(Qb[new_local_pos,new_cloud_pos])] - Qb[local_pos,cloud_pos,action])\n",
    "            freq[local_pos,cloud_pos] = freq[local_pos,cloud_pos] + 1\n",
    "            freq_action[local_pos,cloud_pos,action] = freq_action[local_pos,cloud_pos,action] + 1     \n",
    "            reward_list.append(reward)\n",
    "        reward_sum_list.append(reward_sum/count)\n",
    "    return reward_list,reward_sum_list,local_actions"
   ]
  },
  {
   "cell_type": "code",
   "execution_count": null,
   "metadata": {},
   "outputs": [],
   "source": []
  },
  {
   "cell_type": "code",
   "execution_count": 218,
   "metadata": {},
   "outputs": [],
   "source": [
    "r_list,r_sum_list,local_actions = Server_DoubleQ_learning()"
   ]
  },
  {
   "cell_type": "code",
   "execution_count": 219,
   "metadata": {},
   "outputs": [
    {
     "data": {
      "text/plain": [
       "50000"
      ]
     },
     "execution_count": 219,
     "metadata": {},
     "output_type": "execute_result"
    }
   ],
   "source": [
    "len(r_list)"
   ]
  },
  {
   "cell_type": "code",
   "execution_count": 220,
   "metadata": {},
   "outputs": [
    {
     "data": {
      "text/plain": [
       "[<matplotlib.lines.Line2D at 0x11a1278ac50>]"
      ]
     },
     "execution_count": 220,
     "metadata": {},
     "output_type": "execute_result"
    },
    {
     "data": {
      "image/png": "[encoded data removed]",
      "text/plain": [
       "<Figure size 640x480 with 1 Axes>"
      ]
     },
     "metadata": {},
     "output_type": "display_data"
    }
   ],
   "source": [
    "plt.plot(r_sum_list)"
   ]
  },
  {
   "cell_type": "code",
   "execution_count": 221,
   "metadata": {},
   "outputs": [
    {
     "data": {
      "text/plain": [
       "[<matplotlib.lines.Line2D at 0x11a128d5090>]"
      ]
     },
     "execution_count": 221,
     "metadata": {},
     "output_type": "execute_result"
    },
    {
     "data": {
      "image/png": "[encoded data removed]",
      "text/plain": [
       "<Figure size 640x480 with 1 Axes>"
      ]
     },
     "metadata": {},
     "output_type": "display_data"
    }
   ],
   "source": [
    "plt.plot(rewardsum_list)\n",
    "plt.plot(r_sum_list)"
   ]
  },
  {
   "cell_type": "code",
   "execution_count": 161,
   "metadata": {},
   "outputs": [
    {
     "data": {
      "text/plain": [
       "[<matplotlib.lines.Line2D at 0x11a0fbfdc90>]"
      ]
     },
     "execution_count": 161,
     "metadata": {},
     "output_type": "execute_result"
    },
    {
     "data": {
      "image/png": "[encoded data removed]",
      "text/plain": [
       "<Figure size 640x480 with 1 Axes>"
      ]
     },
     "metadata": {},
     "output_type": "display_data"
    }
   ],
   "source": [
    "plt.plot(local_actions)"
   ]
  },
  {
   "cell_type": "code",
   "execution_count": 21,
   "metadata": {},
   "outputs": [
    {
     "data": {
      "text/plain": [
       "-0.029353674772470403"
      ]
     },
     "execution_count": 21,
     "metadata": {},
     "output_type": "execute_result"
    }
   ],
   "source": [
    "def Server_SwithcQ_learning():\n",
    "    N = 500\n",
    "    gamma = 0.5\n",
    "    n = 30\n",
    "    reward_list = []\n",
    "    reward_sum_list = []\n",
    "    reward_sum = 0\n",
    "    count = 0\n",
    "    mu = 1;lamda = 1\n",
    "    Qa = np.zeros((n,n,2))\n",
    "    Qb = np.zeros((n,n,2))\n",
    "    freq = np.ones((n,n))\n",
    "    freq_action = np.ones((n,n,2))\n",
    "    (arrivals,departures) = arrival_and_departure_times(mu,lamda,N)\n",
    "    local_pos = 0;cloud_pos = 0\n",
    "    for ind in range(100):\n",
    "        local_actions = np.array([False]*N)\n",
    "        cloud_actions = np.array([False]*N)\n",
    "        for i in range(N):\n",
    "            local_pos = ((departures > arrivals[i]) & (arrivals < arrivals[i]) & (local_actions)).sum()\n",
    "            cloud_pos = ((departures > arrivals[i]) & (arrivals < arrivals[i]) & (cloud_actions)).sum()\n",
    "                        \n",
    "            eps = 1/np.sqrt(freq[local_pos,cloud_pos])\n",
    "            if np.random.choice([True,False]):\n",
    "                action = np.random.choice([np.argmax(Qa[local_pos,cloud_pos]),np.random.choice([0,1])],p = [1 - eps,eps])\n",
    "            else:\n",
    "                action = np.random.choice([np.argmax(Qb[local_pos,cloud_pos]),np.random.choice([0,1])],p = [1 - eps,eps])\n",
    "            if local_pos == n:\n",
    "                action = 1\n",
    "            if cloud_pos == n:\n",
    "                action = 0        \n",
    "            if action == 0:\n",
    "                local_actions[i] = 1\n",
    "            if action == 1:\n",
    "                cloud_actions[i] = 1\n",
    "            (new_local_pos,new_cloud_pos,reward) = next_state(local_pos,cloud_pos,action)\n",
    "            reward_sum = reward_sum + reward\n",
    "            count = count + 1\n",
    "            alpha = 1/np.power(freq_action[local_pos,cloud_pos, action],0.8)\n",
    "            if np.random.choice([True,False]):\n",
    "                Qa[local_pos,cloud_pos,action] = Qa[local_pos,cloud_pos,action] + alpha*(reward + gamma*Qb[local_pos,cloud_pos,np.argmax(Qa[new_local_pos,new_cloud_pos])] - Qa[local_pos,cloud_pos,action])\n",
    "            else:\n",
    "                Qb[local_pos,cloud_pos,action] = Qb[local_pos,cloud_pos,action] + alpha*(reward + gamma*Qa[local_pos,cloud_pos,np.argmax(Qb[new_local_pos,new_cloud_pos])] - Qb[local_pos,cloud_pos,action])\n",
    "            freq[local_pos,cloud_pos] = freq[local_pos,cloud_pos] + 1\n",
    "            freq_action[local_pos,cloud_pos,action] = freq_action[local_pos,cloud_pos,action] + 1     \n",
    "            reward_list.append(reward)\n",
    "        reward_sum_list.append(reward_sum/count)\n",
    "    return reward_list,reward_sum_list,local_actions"
   ]
  },
  {
   "cell_type": "code",
   "execution_count": 22,
   "metadata": {},
   "outputs": [
    {
     "data": {
      "text/plain": [
       "0.9798591747209238"
      ]
     },
     "execution_count": 22,
     "metadata": {},
     "output_type": "execute_result"
    }
   ],
   "source": [
    "if(len(return_dict[local_pos,server_pos,action]) >= 2):\n",
    "                if(np.var(return_dict[local_pos,server_pos,action]) < np.var(return_dict[local_pos,server_pos,1 - action])):"
   ]
  },
  {
   "cell_type": "code",
   "execution_count": 110,
   "metadata": {},
   "outputs": [
    {
     "data": {
      "text/plain": [
       "0.10953300922948625"
      ]
     },
     "execution_count": 110,
     "metadata": {},
     "output_type": "execute_result"
    }
   ],
   "source": [
    "np.random.exponential(0.19)"
   ]
  },
  {
   "cell_type": "code",
   "execution_count": null,
   "metadata": {},
   "outputs": [],
   "source": []
  },
  {
   "cell_type": "code",
   "execution_count": null,
   "metadata": {},
   "outputs": [],
   "source": []
  },
  {
   "cell_type": "code",
   "execution_count": null,
   "metadata": {},
   "outputs": [],
   "source": []
  },
  {
   "cell_type": "code",
   "execution_count": null,
   "metadata": {},
   "outputs": [],
   "source": []
  },
  {
   "cell_type": "code",
   "execution_count": null,
   "metadata": {},
   "outputs": [],
   "source": []
  }
 ],
 "metadata": {
  "kernelspec": {
   "display_name": "Python 3",
   "language": "python",
   "name": "python3"
  },
  "language_info": {
   "codemirror_mode": {
    "name": "ipython",
    "version": 3
   },
   "file_extension": ".py",
   "mimetype": "text/x-python",
   "name": "python",
   "nbconvert_exporter": "python",
   "pygments_lexer": "ipython3",
   "version": "3.11.0"
  },
  "orig_nbformat": 4
 },
 "nbformat": 4,
 "nbformat_minor": 2
}
