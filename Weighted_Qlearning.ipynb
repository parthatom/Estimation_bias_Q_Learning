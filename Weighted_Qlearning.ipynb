{
 "cells": [
  {
   "cell_type": "code",
   "execution_count": 4,
   "id": "259164d8",
   "metadata": {
    "id": "259164d8"
   },
   "outputs": [],
   "source": [
    "import numpy as np\n",
    "import matplotlib.pyplot as plt"
   ]
  },
  {
   "cell_type": "code",
   "execution_count": 5,
   "id": "1098686e",
   "metadata": {
    "id": "1098686e"
   },
   "outputs": [],
   "source": [
    "gamma = 0.95\n",
    "nA = 4\n",
    "nS = 9\n",
    "p = 0.8"
   ]
  },
  {
   "cell_type": "markdown",
   "id": "Wlg7vfSx9lKz",
   "metadata": {
    "id": "Wlg7vfSx9lKz"
   },
   "source": [
    "## Grid Game"
   ]
  },
  {
   "cell_type": "code",
   "execution_count": 3,
   "id": "0a715d69",
   "metadata": {
    "id": "0a715d69"
   },
   "outputs": [],
   "source": [
    "#r1, r2, next_state, terminal: 0: up, 1: down, 2: right, 3: left\n",
    "# Map = [\n",
    "#         \"CCG\",012\n",
    "#         \"CCC\",345\n",
    "#         \"SCC\",678\n",
    "#     ]\n",
    "P = {\n",
    "    0:{\n",
    "        0:(-12, 10, 0, False),\n",
    "        1:(-12, 10, 3, False),\n",
    "        2:(-12, 10, 1, False),\n",
    "        3:(-12, 10, 0, False)\n",
    "    },\n",
    "    1:{\n",
    "        0:(-12, 10, 1, False),\n",
    "        1:(-12, 10, 4, False),\n",
    "        2:(-12, 10, 2, False),\n",
    "        3:(-12, 10, 0, False)\n",
    "    },\n",
    "    2:{                        #Goal\n",
    "        0:(5, 5, 9, True),\n",
    "        1:(5, 5, 9, True),\n",
    "        2:(5, 5, 9, True),\n",
    "        3:(5, 5, 9, True)\n",
    "    },\n",
    "    3:{\n",
    "        0:(-12, 10, 0, False),\n",
    "        1:(-12, 10, 6, False),\n",
    "        2:(-12, 10, 4, False),\n",
    "        3:(-12, 10, 3, False)\n",
    "    },\n",
    "    4:{\n",
    "        0:(-12, 10, 1, False),\n",
    "        1:(-12, 10, 7, False),\n",
    "        2:(-12, 10, 5, False),\n",
    "        3:(-12, 10, 3, False)\n",
    "    },\n",
    "    5:{\n",
    "        0:(-12, 10, 2, False),\n",
    "        1:(-12, 10, 8, False),\n",
    "        2:(-12, 10, 5, False),\n",
    "        3:(-12, 10, 4, False)\n",
    "    },\n",
    "    6:{                        #Starting state\n",
    "        0:(-12, 10, 3, False),\n",
    "        1:(-12, 10, 6, False),\n",
    "        2:(-12, 10, 7, False),\n",
    "        3:(-12, 10, 6, False)\n",
    "    },\n",
    "    7:{\n",
    "        0:(-12, 10, 4, False),\n",
    "        1:(-12, 10, 7, False),\n",
    "        2:(-12, 10, 8, False),\n",
    "        3:(-12, 10, 6, False)\n",
    "    },\n",
    "    8:{\n",
    "        0:(-12, 10, 5, False),\n",
    "        1:(-12, 10, 8, False),\n",
    "        2:(-12, 10, 8, False),\n",
    "        3:(-12, 10, 7, False)\n",
    "    },\n",
    "    9:{                       #End of episode state\n",
    "        0:(0, 0, 9, True),\n",
    "        1:(0, 0, 9, True),\n",
    "        2:(0, 0, 9, True),\n",
    "        3:(0, 0, 9, True)\n",
    "    }\n",
    "}"
   ]
  },
  {
   "cell_type": "code",
   "execution_count": 4,
   "id": "ccbc82d1",
   "metadata": {
    "id": "ccbc82d1"
   },
   "outputs": [],
   "source": [
    "def rewardnstate(a, s):\n",
    "    r1, r2, state, terminal = P[s][a]\n",
    "    reward = np.random.choice([r1, r2])\n",
    "    return reward, state, terminal\n",
    "\n",
    "def act_functn(Q, state, state_visits):\n",
    "    #eps = 0.1\n",
    "    #eps = 1/np.power(state_visits[state], 0.2)\n",
    "    eps = 1/np.sqrt(state_visits[state])\n",
    "    state_visits[state] += 1\n",
    "    if np.random.choice([True, False], p=[1-eps, eps]):\n",
    "        action = np.argmax(Q[state])\n",
    "    else:\n",
    "        action = np.random.choice(nA)\n",
    "    return action"
   ]
  },
  {
   "cell_type": "code",
   "execution_count": 5,
   "id": "cf459f29",
   "metadata": {
    "id": "cf459f29"
   },
   "outputs": [],
   "source": [
    "np.random.seed(2)\n",
    "count_matrix_a = np.ones([nS, nA])\n",
    "count_matrix_b = np.ones([nS, nA])\n",
    "state_visits = np.ones(nS)\n",
    "reward_list = []\n",
    "maximal_value_a = []\n",
    "maximal_value_b = []\n",
    "cumsum = 0\n",
    "count = 0\n",
    "Qa = np.random.rand(nS+1, nA) #Random between -0.5 and 0.5\n",
    "Qb = np.random.rand(nS+1, nA)\n",
    "Qa[nS], Qb[nS] = 0, 0\n",
    "for i in range(10000):\n",
    "    state = 6\n",
    "    terminal = True if state==2 else False\n",
    "    while(not terminal):\n",
    "        action = act_functn((Qa + Qb)/2, state, state_visits)\n",
    "        reward, next_state, terminal = rewardnstate(action, state)\n",
    "        cumsum += reward\n",
    "        count += 1\n",
    "        \n",
    "        \n",
    "        if np.random.choice([True, False]):#Qa\n",
    "            alpha_a = (1/np.power(count_matrix_a[state, action], p))\n",
    "            action_star = np.argmax(Qa[next_state])\n",
    "            action_l = np.argmin(Qa[next_state])\n",
    "            diff = np.abs(Qb[next_state, action_star]-Qb[next_state, action_l])\n",
    "            beta_a = diff/(1000+diff)\n",
    "            delta = reward + gamma*(beta_a*Qa[next_state, action_star]+(1-beta_a)*Qb[next_state, action_star])-Qa[state, action]\n",
    "            Qa[state, action] += alpha_a*(delta)\n",
    "            count_matrix_a[state, action] += 1\n",
    "        else:\n",
    "            alpha_b = (1/np.power(count_matrix_b[state, action], p))\n",
    "            action_star = np.argmax(Qb[next_state])#Qb\n",
    "            action_l = np.argmin(Qb[next_state])\n",
    "            diff = np.abs(Qa[next_state, action_star]-Qa[next_state, action_l])\n",
    "            beta_b = diff/(1000+diff)\n",
    "            delta = reward + gamma*(beta_b*Qb[next_state, action_star]+(1-beta_b)*Qa[next_state, action_star])-Qb[state, action]\n",
    "            Qb[state, action] += alpha_b*(delta)\n",
    "            count_matrix_b[state, action] += 1\n",
    "\n",
    "        \n",
    "        state = next_state\n",
    "\n",
    "    reward_list.append(cumsum/count)\n",
    "    maximal_value_a.append(np.max(Qa[6]))\n",
    "    maximal_value_b.append(np.max(Qb[6]))"
   ]
  },
  {
   "cell_type": "code",
   "execution_count": 6,
   "id": "50dfe479",
   "metadata": {
    "colab": {
     "base_uri": "https://localhost:8080/",
     "height": 265
    },
    "id": "50dfe479",
    "outputId": "6b716d34-c8ee-4f3b-f288-b242463dc240"
   },
   "outputs": [
    {
     "data": {
      "image/png": "[encoded data removed]",
      "text/plain": [
       "<Figure size 432x288 with 1 Axes>"
      ]
     },
     "metadata": {
      "needs_background": "light"
     },
     "output_type": "display_data"
    }
   ],
   "source": [
    "props = {\n",
    "    \"width\": 1,\n",
    "    \"headwidth\": 10\n",
    "}\n",
    "plt.plot(reward_list)#reward per step\n",
    "plt.axhline(y = 0.2, color = \"r\", linestyle = \"--\", linewidth = 1)\n",
    "#plt.annotate('y = %s' % round(reward_list[-1], 4), xy=(8000, reward_list[-1]), xytext=(9000, -0.2), arrowprops = props)\n",
    "plt.show()"
   ]
  },
  {
   "cell_type": "code",
   "execution_count": 7,
   "id": "6864198c",
   "metadata": {
    "colab": {
     "base_uri": "https://localhost:8080/",
     "height": 265
    },
    "id": "6864198c",
    "outputId": "f46a717f-1923-409f-c0d2-ce4f970e256e"
   },
   "outputs": [
    {
     "data": {
      "image/png": "[encoded data removed]",
      "text/plain": [
       "<Figure size 432x288 with 1 Axes>"
      ]
     },
     "metadata": {
      "needs_background": "light"
     },
     "output_type": "display_data"
    }
   ],
   "source": [
    "props = {\n",
    "    \"width\": 1,\n",
    "    \"headwidth\": 10\n",
    "}\n",
    "\n",
    "plt.plot(maximal_value_a, linewidth=1)\n",
    "plt.axhline(y = 0.36, color = \"r\", linestyle = \"--\", linewidth = 1)\n",
    "#plt.annotate('y = %s' % round(maximal_value_a[-1], 4), xy=(8000, maximal_value_a[-1]), xytext=(9000, -2), arrowprops = props)\n",
    "plt.show()"
   ]
  },
  {
   "cell_type": "code",
   "execution_count": 8,
   "id": "bb3e8727",
   "metadata": {
    "colab": {
     "base_uri": "https://localhost:8080/",
     "height": 265
    },
    "id": "bb3e8727",
    "outputId": "adabc075-7930-453a-9851-553806cd765f"
   },
   "outputs": [
    {
     "data": {
      "image/png": "[encoded data removed]",
      "text/plain": [
       "<Figure size 432x288 with 1 Axes>"
      ]
     },
     "metadata": {
      "needs_background": "light"
     },
     "output_type": "display_data"
    }
   ],
   "source": [
    "props = {\n",
    "    \"width\": 1,\n",
    "    \"headwidth\": 10\n",
    "}\n",
    "plt.plot(maximal_value_b)\n",
    "plt.axhline(y = 0.36, color = \"r\", linestyle = \"--\", linewidth = 1)\n",
    "#plt.annotate('y = %s' % round(maximal_value_b[-1], 4), xy=(300000, maximal_value_b[-1]), xytext=(350000, -2), arrowprops = props)\n",
    "plt.annotate\n",
    "plt.show()"
   ]
  },
  {
   "cell_type": "code",
   "execution_count": 9,
   "id": "hzehEHKrWeR-",
   "metadata": {
    "colab": {
     "base_uri": "https://localhost:8080/"
    },
    "id": "hzehEHKrWeR-",
    "outputId": "3acc7fc3-2100-48e6-d8ff-63abf1cb15de"
   },
   "outputs": [
    {
     "data": {
      "text/plain": [
       "(-1.6427209818735333, -5.743614116382106)"
      ]
     },
     "execution_count": 9,
     "metadata": {},
     "output_type": "execute_result"
    }
   ],
   "source": [
    "np.mean(np.array(maximal_value_b) - 0.36), np.mean(np.array(maximal_value_a) - 0.36)"
   ]
  },
  {
   "cell_type": "code",
   "execution_count": 10,
   "id": "ePojreaXqP8g",
   "metadata": {
    "colab": {
     "base_uri": "https://localhost:8080/"
    },
    "id": "ePojreaXqP8g",
    "outputId": "f15d1a8f-4265-4422-8a3c-c4bcfbf11dfb"
   },
   "outputs": [
    {
     "data": {
      "text/plain": [
       "(-1.0899439163358833, -5.949006607380567)"
      ]
     },
     "execution_count": 10,
     "metadata": {},
     "output_type": "execute_result"
    }
   ],
   "source": [
    "np.mean(np.array(maximal_value_b[2000:]) - 0.36), np.mean(np.array(maximal_value_a[2000:]) - 0.36)"
   ]
  },
  {
   "cell_type": "code",
   "execution_count": 9,
   "id": "OOXDWqQHWfvM",
   "metadata": {
    "id": "OOXDWqQHWfvM"
   },
   "outputs": [],
   "source": []
  },
  {
   "cell_type": "markdown",
   "id": "mNgB1fpI8olB",
   "metadata": {
    "id": "mNgB1fpI8olB"
   },
   "source": [
    "## Bias Game"
   ]
  },
  {
   "cell_type": "code",
   "execution_count": 90,
   "id": "gxO_9agp8rmi",
   "metadata": {
    "id": "gxO_9agp8rmi"
   },
   "outputs": [],
   "source": [
    "mu = 0.5\n",
    "gamma = 1\n",
    "P = {\n",
    "    0:{0: (0, 0, True)}, #state:{action: (reward, next state, terminal)}\n",
    "    1:{0: (mu, 0, True),\n",
    "       1: (mu, 0, True),\n",
    "       2: (mu, 0, True),\n",
    "       3: (mu, 0, True),\n",
    "       4: (mu, 0, True),\n",
    "       5: (mu, 0, True),\n",
    "       6: (mu, 0, True),\n",
    "       7: (mu, 0, True)}, \n",
    "    2:{0: (0, 1, False),\n",
    "       1: (0, 0, True)}\n",
    "}"
   ]
  },
  {
   "cell_type": "code",
   "execution_count": 91,
   "id": "1bLhjEei8sZ4",
   "metadata": {
    "id": "1bLhjEei8sZ4"
   },
   "outputs": [],
   "source": [
    "def rewardnstate(a, s):\n",
    "    r, state, terminal = P[s][a]\n",
    "    if s==1:\n",
    "        r = r + np.random.uniform(-1, 1)\n",
    "    return r, state, terminal\n",
    "  \n",
    "def act_functn(Q, state, state_visits):\n",
    "    #eps = 0.1\n",
    "    #eps = 1/np.power(state_visits[state], 0.2)\n",
    "    eps = 1/np.sqrt(state_visits[state])\n",
    "    state_visits[state] += 1\n",
    "    if np.random.choice([True, False], p=[1-eps, eps]):\n",
    "        action = np.argmax(Q[state, :nAfes[state]])\n",
    "    else:\n",
    "        action = np.random.choice(nAfes[state])\n",
    "    return action"
   ]
  },
  {
   "cell_type": "code",
   "execution_count": 92,
   "id": "tM3DbDqw85M-",
   "metadata": {
    "colab": {
     "base_uri": "https://localhost:8080/"
    },
    "id": "tM3DbDqw85M-",
    "outputId": "6582ea20-23f2-4197-845f-a379a7c5d7c5"
   },
   "outputs": [],
   "source": [
    "np.random.seed(2)\n",
    "nS = 3\n",
    "nA = 8\n",
    "count_matrix_a = np.ones([nS, nA])\n",
    "count_matrix_b = np.ones([nS, nA])\n",
    "state_visits = np.ones(nS)\n",
    "reward_list = []\n",
    "maximal_value_a = []\n",
    "maximal_value_b = []\n",
    "maximal_value = []\n",
    "pref_list = []\n",
    "cumsum = 0\n",
    "count = 0\n",
    "Qa = np.random.rand(nS, nA) #Random between -0.5 and 0.5\n",
    "Qb = np.random.rand(nS, nA)\n",
    "Qa[0], Qb[0] = 0, 0\n",
    "nAfes = [1, 8, 2] #num_Actions_for_each_state\n",
    "start_state = 2\n",
    "for i in range(2000):\n",
    "    state = start_state\n",
    "    terminal = True if state==0 else False\n",
    "    while(not terminal):\n",
    "        action = act_functn(Qa + Qb, state, state_visits)\n",
    "        reward, next_state, terminal = rewardnstate(action, state)\n",
    "        cumsum += reward\n",
    "        count += 1\n",
    "        \n",
    "        \n",
    "        if np.random.choice([True, False]):#Qa\n",
    "            alpha_a = (1/np.power(count_matrix_a[state, action], p))\n",
    "            action_star = np.argmax(Qa[next_state, :nAfes[next_state]])\n",
    "            action_l = np.argmin(Qa[next_state, :nAfes[next_state]])\n",
    "            diff = np.abs(Qb[next_state, action_star]-Qb[next_state, action_l])\n",
    "            beta_a = diff/(100+diff)\n",
    "            delta = reward + gamma*(beta_a*Qa[next_state, action_star]\n",
    "                                    + (1-beta_a)*Qb[next_state, action_star]) - Qa[state, action]\n",
    "            Qa[state, action] += alpha_a*(delta)\n",
    "            count_matrix_a[state, action] += 1\n",
    "        else:\n",
    "            alpha_b = (1/np.power(count_matrix_b[state, action], p))\n",
    "            action_star = np.argmax(Qb[next_state])#Qb\n",
    "            action_l = np.argmin(Qb[next_state])\n",
    "            diff = np.abs(Qa[next_state, action_star]-Qa[next_state, action_l])\n",
    "            beta_b = diff/(100+diff)\n",
    "            delta = reward + gamma*(beta_b*Qb[next_state, action_star]\n",
    "                                    +(1-beta_b)*Qa[next_state, action_star])-Qb[state, action]\n",
    "            Qb[state, action] += alpha_b*(delta)\n",
    "            count_matrix_b[state, action] += 1\n",
    "\n",
    "        \n",
    "        state = next_state\n",
    "\n",
    "    reward_list.append(cumsum/count)\n",
    "    maximal_value_a.append(np.max(Qa[start_state, :nAfes[start_state]]))\n",
    "    maximal_value_b.append(np.max(Qb[start_state, :nAfes[start_state]]))\n",
    "    pref = .0\n",
    "    pref += Qa[2][0] - Qa[2][1] #preference of left over right\n",
    "    pref += Qb[2][0] - Qb[2][1] #preference of left over right\n",
    "    pref /= float(2)\n",
    "    pref_list.append(pref)"
   ]
  },
  {
   "cell_type": "code",
   "execution_count": 93,
   "id": "VyQ7qWxIAaa8",
   "metadata": {
    "colab": {
     "base_uri": "https://localhost:8080/",
     "height": 282
    },
    "id": "VyQ7qWxIAaa8",
    "outputId": "11300ea4-4317-4241-ca07-a0637e1735af"
   },
   "outputs": [
    {
     "data": {
      "image/png": "[encoded data removed]",
      "text/plain": [
       "<Figure size 432x288 with 1 Axes>"
      ]
     },
     "metadata": {
      "needs_background": "light"
     },
     "output_type": "display_data"
    },
    {
     "name": "stdout",
     "output_type": "stream",
     "text": [
      "0.2197183760900875\n"
     ]
    }
   ],
   "source": [
    "plt.plot(pref_list, label = \"over\")\n",
    "plt.legend()\n",
    "plt.show()\n",
    "print(pref_list[-1])"
   ]
  },
  {
   "cell_type": "code",
   "execution_count": 87,
   "id": "hr_LcGeRD9jf",
   "metadata": {
    "colab": {
     "base_uri": "https://localhost:8080/"
    },
    "id": "hr_LcGeRD9jf",
    "outputId": "674eb553-fbd4-4477-90ac-c7c3d07c60a2"
   },
   "outputs": [
    {
     "data": {
      "text/plain": [
       "nan"
      ]
     },
     "execution_count": 87,
     "metadata": {},
     "output_type": "execute_result"
    }
   ],
   "source": [
    "np.mean(pref_list[2000:])-mu"
   ]
  },
  {
   "cell_type": "code",
   "execution_count": 88,
   "id": "D5FYwstRCkB4",
   "metadata": {
    "colab": {
     "base_uri": "https://localhost:8080/"
    },
    "id": "D5FYwstRCkB4",
    "outputId": "a924a415-c03a-4cfd-97fe-15363ef78fc2"
   },
   "outputs": [
    {
     "data": {
      "image/png": "[encoded data removed]",
      "text/plain": [
       "<Figure size 432x288 with 1 Axes>"
      ]
     },
     "metadata": {
      "needs_background": "light"
     },
     "output_type": "display_data"
    }
   ],
   "source": [
    "props = {\n",
    "    \"width\": 1,\n",
    "    \"headwidth\": 10\n",
    "}\n",
    "plt.plot(maximal_value_a)\n",
    "plt.axhline(y = max(mu, 0), color = \"r\", linestyle = \"--\", linewidth = 1)\n",
    "#plt.annotate('y = %s' % round(maximal_value[-1], 4), xy=(50000, maximal_value[-1]), xytext=(100000, 5), arrowprops = props)\n",
    "plt.show()"
   ]
  },
  {
   "cell_type": "code",
   "execution_count": 89,
   "id": "bjgMVAEjCkmj",
   "metadata": {
    "id": "bjgMVAEjCkmj"
   },
   "outputs": [
    {
     "data": {
      "text/plain": [
       "(array([[ 0.        ,  0.        ,  0.        ,  0.        ,  0.        ,\n",
       "          0.        ,  0.        ,  0.        ],\n",
       "        [-0.54796915, -0.30832472, -0.17101655, -0.65761366, -0.3966222 ,\n",
       "         -1.31420747, -0.28219992, -0.3954553 ],\n",
       "        [-0.71734402,  0.        ,  0.84656149,  0.07964548,  0.50524609,\n",
       "          0.0652865 ,  0.42812233,  0.09653092]]),\n",
       " array([[ 0.        ,  0.        ,  0.        ,  0.        ,  0.        ,\n",
       "          0.        ,  0.        ,  0.        ],\n",
       "        [-0.76278492, -0.74169784, -1.47444893, -0.55221419, -0.51241571,\n",
       "         -0.17703735, -0.8078037 , -0.38615607],\n",
       "        [-1.18561771,  0.        ,  0.88952006,  0.34161365,  0.56714413,\n",
       "          0.42754596,  0.43674726,  0.77655918]]))"
      ]
     },
     "execution_count": 89,
     "metadata": {},
     "output_type": "execute_result"
    }
   ],
   "source": [
    "Qa, Qb"
   ]
  },
  {
   "cell_type": "code",
   "execution_count": null,
   "id": "7867f77e",
   "metadata": {},
   "outputs": [],
   "source": []
  }
 ],
 "metadata": {
  "colab": {
   "name": "Weighted Qlearning.ipynb",
   "provenance": []
  },
  "kernelspec": {
   "display_name": "Python 3",
   "language": "python",
   "name": "python3"
  },
  "language_info": {
   "codemirror_mode": {
    "name": "ipython",
    "version": 3
   },
   "file_extension": ".py",
   "mimetype": "text/x-python",
   "name": "python",
   "nbconvert_exporter": "python",
   "pygments_lexer": "ipython3",
   "version": "3.8.8"
  }
 },
 "nbformat": 4,
 "nbformat_minor": 5
}
