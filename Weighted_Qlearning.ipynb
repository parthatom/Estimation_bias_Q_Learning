{
  "cells": [
    {
      "cell_type": "code",
      "execution_count": 1,
      "id": "259164d8",
      "metadata": {
        "id": "259164d8"
      },
      "outputs": [],
      "source": [
        "import numpy as np\n",
        "import matplotlib.pyplot as plt"
      ]
    },
    {
      "cell_type": "code",
      "execution_count": 2,
      "id": "1098686e",
      "metadata": {
        "id": "1098686e"
      },
      "outputs": [],
      "source": [
        "gamma = 0.95\n",
        "nA = 4\n",
        "nS = 9\n",
        "p = 0.8"
      ]
    },
    {
      "cell_type": "markdown",
      "source": [
        "## Grid Game"
      ],
      "metadata": {
        "id": "Wlg7vfSx9lKz"
      },
      "id": "Wlg7vfSx9lKz"
    },
    {
      "cell_type": "code",
      "execution_count": 3,
      "id": "0a715d69",
      "metadata": {
        "id": "0a715d69"
      },
      "outputs": [],
      "source": [
        "#r1, r2, next_state, terminal: 0: up, 1: down, 2: right, 3: left\n",
        "# Map = [\n",
        "#         \"CCG\",012\n",
        "#         \"CCC\",345\n",
        "#         \"SCC\",678\n",
        "#     ]\n",
        "P = {\n",
        "    0:{\n",
        "        0:(-12, 10, 0, False),\n",
        "        1:(-12, 10, 3, False),\n",
        "        2:(-12, 10, 1, False),\n",
        "        3:(-12, 10, 0, False)\n",
        "    },\n",
        "    1:{\n",
        "        0:(-12, 10, 1, False),\n",
        "        1:(-12, 10, 4, False),\n",
        "        2:(-12, 10, 2, False),\n",
        "        3:(-12, 10, 0, False)\n",
        "    },\n",
        "    2:{                        #Goal\n",
        "        0:(5, 5, 9, True),\n",
        "        1:(5, 5, 9, True),\n",
        "        2:(5, 5, 9, True),\n",
        "        3:(5, 5, 9, True)\n",
        "    },\n",
        "    3:{\n",
        "        0:(-12, 10, 0, False),\n",
        "        1:(-12, 10, 6, False),\n",
        "        2:(-12, 10, 4, False),\n",
        "        3:(-12, 10, 3, False)\n",
        "    },\n",
        "    4:{\n",
        "        0:(-12, 10, 1, False),\n",
        "        1:(-12, 10, 7, False),\n",
        "        2:(-12, 10, 5, False),\n",
        "        3:(-12, 10, 3, False)\n",
        "    },\n",
        "    5:{\n",
        "        0:(-12, 10, 2, False),\n",
        "        1:(-12, 10, 8, False),\n",
        "        2:(-12, 10, 5, False),\n",
        "        3:(-12, 10, 4, False)\n",
        "    },\n",
        "    6:{                        #Starting state\n",
        "        0:(-12, 10, 3, False),\n",
        "        1:(-12, 10, 6, False),\n",
        "        2:(-12, 10, 7, False),\n",
        "        3:(-12, 10, 6, False)\n",
        "    },\n",
        "    7:{\n",
        "        0:(-12, 10, 4, False),\n",
        "        1:(-12, 10, 7, False),\n",
        "        2:(-12, 10, 8, False),\n",
        "        3:(-12, 10, 6, False)\n",
        "    },\n",
        "    8:{\n",
        "        0:(-12, 10, 5, False),\n",
        "        1:(-12, 10, 8, False),\n",
        "        2:(-12, 10, 8, False),\n",
        "        3:(-12, 10, 7, False)\n",
        "    },\n",
        "    9:{                       #End of episode state\n",
        "        0:(0, 0, 9, True),\n",
        "        1:(0, 0, 9, True),\n",
        "        2:(0, 0, 9, True),\n",
        "        3:(0, 0, 9, True)\n",
        "    }\n",
        "}"
      ]
    },
    {
      "cell_type": "code",
      "execution_count": 4,
      "id": "ccbc82d1",
      "metadata": {
        "id": "ccbc82d1"
      },
      "outputs": [],
      "source": [
        "def rewardnstate(a, s):\n",
        "    r1, r2, state, terminal = P[s][a]\n",
        "    reward = np.random.choice([r1, r2])\n",
        "    return reward, state, terminal\n",
        "\n",
        "def act_functn(Q, state, state_visits):\n",
        "    #eps = 0.1\n",
        "    #eps = 1/np.power(state_visits[state], 0.2)\n",
        "    eps = 1/np.sqrt(state_visits[state])\n",
        "    state_visits[state] += 1\n",
        "    if np.random.choice([True, False], p=[1-eps, eps]):\n",
        "        action = np.argmax(Q[state])\n",
        "    else:\n",
        "        action = np.random.choice(nA)\n",
        "    return action"
      ]
    },
    {
      "cell_type": "code",
      "execution_count": 5,
      "id": "cf459f29",
      "metadata": {
        "id": "cf459f29"
      },
      "outputs": [],
      "source": [
        "np.random.seed(2)\n",
        "count_matrix_a = np.ones([nS, nA])\n",
        "count_matrix_b = np.ones([nS, nA])\n",
        "state_visits = np.ones(nS)\n",
        "reward_list = []\n",
        "maximal_value_a = []\n",
        "maximal_value_b = []\n",
        "cumsum = 0\n",
        "count = 0\n",
        "Qa = np.random.rand(nS+1, nA) #Random between -0.5 and 0.5\n",
        "Qb = np.random.rand(nS+1, nA)\n",
        "Qa[nS], Qb[nS] = 0, 0\n",
        "for i in range(10000):\n",
        "    state = 6\n",
        "    terminal = True if state==2 else False\n",
        "    while(not terminal):\n",
        "        action = act_functn((Qa + Qb)/2, state, state_visits)\n",
        "        reward, next_state, terminal = rewardnstate(action, state)\n",
        "        cumsum += reward\n",
        "        count += 1\n",
        "        \n",
        "        \n",
        "        if np.random.choice([True, False]):#Qa\n",
        "            alpha_a = (1/np.power(count_matrix_a[state, action], p))\n",
        "            action_star = np.argmax(Qa[next_state])\n",
        "            action_l = np.argmin(Qa[next_state])\n",
        "            diff = np.abs(Qb[next_state, action_star]-Qb[next_state, action_l])\n",
        "            beta_a = diff/(1000+diff)\n",
        "            delta = reward + gamma*(beta_a*Qa[next_state, action_star]+(1-beta_a)*Qb[next_state, action_star])-Qa[state, action]\n",
        "            Qa[state, action] += alpha_a*(delta)\n",
        "            count_matrix_a[state, action] += 1\n",
        "        else:\n",
        "            alpha_b = (1/np.power(count_matrix_b[state, action], p))\n",
        "            action_star = np.argmax(Qb[next_state])#Qb\n",
        "            action_l = np.argmin(Qb[next_state])\n",
        "            diff = np.abs(Qa[next_state, action_star]-Qa[next_state, action_l])\n",
        "            beta_b = diff/(1000+diff)\n",
        "            delta = reward + gamma*(beta_b*Qb[next_state, action_star]+(1-beta_b)*Qa[next_state, action_star])-Qb[state, action]\n",
        "            Qb[state, action] += alpha_b*(delta)\n",
        "            count_matrix_b[state, action] += 1\n",
        "\n",
        "        \n",
        "        state = next_state\n",
        "\n",
        "    reward_list.append(cumsum/count)\n",
        "    maximal_value_a.append(np.max(Qa[6]))\n",
        "    maximal_value_b.append(np.max(Qb[6]))"
      ]
    },
    {
      "cell_type": "code",
      "execution_count": 6,
      "id": "50dfe479",
      "metadata": {
        "colab": {
          "base_uri": "https://localhost:8080/",
          "height": 265
        },
        "id": "50dfe479",
        "outputId": "6b716d34-c8ee-4f3b-f288-b242463dc240"
      },
      "outputs": [
        {
          "output_type": "display_data",
          "data": {
            "text/plain": [
              "<Figure size 432x288 with 1 Axes>"
            ],
            "image/png": "[encoded data removed]"
          },
          "metadata": {
            "needs_background": "light"
          }
        }
      ],
      "source": [
        "props = {\n",
        "    \"width\": 1,\n",
        "    \"headwidth\": 10\n",
        "}\n",
        "plt.plot(reward_list)#reward per step\n",
        "plt.axhline(y = 0.2, color = \"r\", linestyle = \"--\", linewidth = 1)\n",
        "#plt.annotate('y = %s' % round(reward_list[-1], 4), xy=(8000, reward_list[-1]), xytext=(9000, -0.2), arrowprops = props)\n",
        "plt.show()"
      ]
    },
    {
      "cell_type": "code",
      "execution_count": 7,
      "id": "6864198c",
      "metadata": {
        "colab": {
          "base_uri": "https://localhost:8080/",
          "height": 265
        },
        "id": "6864198c",
        "outputId": "f46a717f-1923-409f-c0d2-ce4f970e256e"
      },
      "outputs": [
        {
          "output_type": "display_data",
          "data": {
            "text/plain": [
              "<Figure size 432x288 with 1 Axes>"
            ],
            "image/png": "[encoded data removed]"
          },
          "metadata": {
            "needs_background": "light"
          }
        }
      ],
      "source": [
        "props = {\n",
        "    \"width\": 1,\n",
        "    \"headwidth\": 10\n",
        "}\n",
        "\n",
        "plt.plot(maximal_value_a, linewidth=1)\n",
        "plt.axhline(y = 0.36, color = \"r\", linestyle = \"--\", linewidth = 1)\n",
        "#plt.annotate('y = %s' % round(maximal_value_a[-1], 4), xy=(8000, maximal_value_a[-1]), xytext=(9000, -2), arrowprops = props)\n",
        "plt.show()"
      ]
    },
    {
      "cell_type": "code",
      "execution_count": 8,
      "id": "bb3e8727",
      "metadata": {
        "colab": {
          "base_uri": "https://localhost:8080/",
          "height": 265
        },
        "id": "bb3e8727",
        "outputId": "adabc075-7930-453a-9851-553806cd765f"
      },
      "outputs": [
        {
          "output_type": "display_data",
          "data": {
            "text/plain": [
              "<Figure size 432x288 with 1 Axes>"
            ],
            "image/png": "[encoded data removed]"
          },
          "metadata": {
            "needs_background": "light"
          }
        }
      ],
      "source": [
        "props = {\n",
        "    \"width\": 1,\n",
        "    \"headwidth\": 10\n",
        "}\n",
        "plt.plot(maximal_value_b)\n",
        "plt.axhline(y = 0.36, color = \"r\", linestyle = \"--\", linewidth = 1)\n",
        "#plt.annotate('y = %s' % round(maximal_value_b[-1], 4), xy=(300000, maximal_value_b[-1]), xytext=(350000, -2), arrowprops = props)\n",
        "plt.annotate\n",
        "plt.show()"
      ]
    },
    {
      "cell_type": "code",
      "source": [
        "np.mean(np.array(maximal_value_b) - 0.36), np.mean(np.array(maximal_value_a) - 0.36)"
      ],
      "metadata": {
        "colab": {
          "base_uri": "https://localhost:8080/"
        },
        "id": "hzehEHKrWeR-",
        "outputId": "3acc7fc3-2100-48e6-d8ff-63abf1cb15de"
      },
      "id": "hzehEHKrWeR-",
      "execution_count": 9,
      "outputs": [
        {
          "output_type": "execute_result",
          "data": {
            "text/plain": [
              "(-1.6427209818735333, -5.743614116382106)"
            ]
          },
          "metadata": {},
          "execution_count": 9
        }
      ]
    },
    {
      "cell_type": "code",
      "source": [
        "np.mean(np.array(maximal_value_b[2000:]) - 0.36), np.mean(np.array(maximal_value_a[2000:]) - 0.36)"
      ],
      "metadata": {
        "colab": {
          "base_uri": "https://localhost:8080/"
        },
        "id": "ePojreaXqP8g",
        "outputId": "f15d1a8f-4265-4422-8a3c-c4bcfbf11dfb"
      },
      "id": "ePojreaXqP8g",
      "execution_count": 10,
      "outputs": [
        {
          "output_type": "execute_result",
          "data": {
            "text/plain": [
              "(-1.0899439163358833, -5.949006607380567)"
            ]
          },
          "metadata": {},
          "execution_count": 10
        }
      ]
    },
    {
      "cell_type": "code",
      "source": [
        ""
      ],
      "metadata": {
        "id": "OOXDWqQHWfvM"
      },
      "id": "OOXDWqQHWfvM",
      "execution_count": 9,
      "outputs": []
    },
    {
      "cell_type": "markdown",
      "source": [
        "## Bias Game"
      ],
      "metadata": {
        "id": "mNgB1fpI8olB"
      },
      "id": "mNgB1fpI8olB"
    },
    {
      "cell_type": "code",
      "source": [
        "mu = -0.5\n",
        "P = {\n",
        "    0:{0: (0, 0, True)}, #state:{action: (reward, next state, terminal)}\n",
        "    1:{0: (mu, 0, False),\n",
        "       1: (mu, 0, False),\n",
        "       2: (mu, 0, False),\n",
        "       3: (mu, 0, False),\n",
        "       4: (mu, 0, False),\n",
        "       5: (mu, 0, False),\n",
        "       6: (mu, 0, False),\n",
        "       7: (mu, 0, False)}, \n",
        "    2:{0: (0, 1, False),\n",
        "       1: (0, 0, False)}\n",
        "}"
      ],
      "metadata": {
        "id": "gxO_9agp8rmi"
      },
      "id": "gxO_9agp8rmi",
      "execution_count": 47,
      "outputs": []
    },
    {
      "cell_type": "code",
      "source": [
        "def rewardnstate(a, s):\n",
        "    r, state, terminal = P[s][a]\n",
        "    if s==1:\n",
        "        r = r + np.random.uniform(-1, 1)\n",
        "    return r, state, terminal\n",
        "  \n",
        "def act_functn(Q, state, state_visits):\n",
        "    #eps = 0.1\n",
        "    #eps = 1/np.power(state_visits[state], 0.2)\n",
        "    eps = 1/np.sqrt(state_visits[state])\n",
        "    state_visits[state] += 1\n",
        "    if np.random.choice([True, False], p=[1-eps, eps]):\n",
        "        action = np.argmax(Q[state, :nAfes[state]])\n",
        "    else:\n",
        "        action = np.random.choice(nAfes[state])\n",
        "    return action"
      ],
      "metadata": {
        "id": "1bLhjEei8sZ4"
      },
      "id": "1bLhjEei8sZ4",
      "execution_count": 48,
      "outputs": []
    },
    {
      "cell_type": "code",
      "source": [
        "np.random.seed(2)\n",
        "nS = 3\n",
        "nA = 8\n",
        "count_matrix_a = np.ones([nS, nA])\n",
        "count_matrix_b = np.ones([nS, nA])\n",
        "state_visits = np.ones(nS)\n",
        "reward_list = []\n",
        "maximal_value_a = []\n",
        "maximal_value_b = []\n",
        "pref_list = []\n",
        "cumsum = 0\n",
        "count = 0\n",
        "Qa = np.random.rand(nS, nA) #Random between -0.5 and 0.5\n",
        "Qb = np.random.rand(nS, nA)\n",
        "print(\"Qa\", Qa)\n",
        "print(\"Qb\", Qb)\n",
        "Qa[0], Qb[0] = 0, 0\n",
        "nAfes = [1, 8, 2] #num_Actions_for_each_state\n",
        "start_state = 2\n",
        "for i in range(10000):\n",
        "    state = start_state\n",
        "    terminal = True if state==0 else False\n",
        "    while(not terminal):\n",
        "        action = act_functn((Qa + Qb)/2, state, state_visits)\n",
        "        reward, next_state, terminal = rewardnstate(action, state)\n",
        "        cumsum += reward\n",
        "        count += 1\n",
        "        \n",
        "        \n",
        "        if np.random.choice([True, False]):#Qa\n",
        "            alpha_a = (1/np.power(count_matrix_a[state, action], p))\n",
        "            action_star = np.argmax(Qa[next_state, :nAfes[next_state]])\n",
        "            action_l = np.argmin(Qa[next_state, :nAfes[next_state]])\n",
        "            diff = np.abs(Qb[next_state, action_star]-Qb[next_state, action_l])\n",
        "            beta_a = diff/(1000+diff)\n",
        "            delta = reward + gamma*(beta_a*Qa[next_state, action_star]\n",
        "                                    + (1-beta_a)*Qb[next_state, action_star]) - Qa[state, action]\n",
        "            Qa[state, action] += alpha_a*(delta)\n",
        "            count_matrix_a[state, action] += 1\n",
        "        else:\n",
        "            alpha_b = (1/np.power(count_matrix_b[state, action], p))\n",
        "            action_star = np.argmax(Qb[next_state])#Qb\n",
        "            action_l = np.argmin(Qb[next_state])\n",
        "            diff = np.abs(Qa[next_state, action_star]-Qa[next_state, action_l])\n",
        "            beta_b = diff/(1000+diff)\n",
        "            delta = reward + gamma*(beta_b*Qb[next_state, action_star]\n",
        "                                    +(1-beta_b)*Qa[next_state, action_star])-Qb[state, action]\n",
        "            Qb[state, action] += alpha_b*(delta)\n",
        "            count_matrix_b[state, action] += 1\n",
        "\n",
        "        \n",
        "        state = next_state\n",
        "\n",
        "    reward_list.append(cumsum/count)\n",
        "    maximal_value_a.append(np.max(Qa[start_state, :nAfes[start_state]]))\n",
        "    maximal_value_b.append(np.max(Qb[start_state, :nAfes[start_state]]))\n",
        "    pref = .0\n",
        "    pref += Qa[2][0] - Qa[2][1] #preference of left over right\n",
        "    pref += Qb[2][0] - Qb[2][1] #preference of left over right\n",
        "    pref /= float(2)\n",
        "    pref_list.append(pref)"
      ],
      "metadata": {
        "colab": {
          "base_uri": "https://localhost:8080/"
        },
        "id": "tM3DbDqw85M-",
        "outputId": "6582ea20-23f2-4197-845f-a379a7c5d7c5"
      },
      "id": "tM3DbDqw85M-",
      "execution_count": 49,
      "outputs": [
        {
          "output_type": "stream",
          "name": "stdout",
          "text": [
            "Qa [[0.4359949  0.02592623 0.54966248 0.43532239 0.4203678  0.33033482\n",
            "  0.20464863 0.61927097]\n",
            " [0.29965467 0.26682728 0.62113383 0.52914209 0.13457995 0.51357812\n",
            "  0.18443987 0.78533515]\n",
            " [0.85397529 0.49423684 0.84656149 0.07964548 0.50524609 0.0652865\n",
            "  0.42812233 0.09653092]]\n",
            "Qb [[0.12715997 0.59674531 0.226012   0.10694568 0.22030621 0.34982629\n",
            "  0.46778748 0.20174323]\n",
            " [0.64040673 0.48306984 0.50523672 0.38689265 0.79363745 0.58000418\n",
            "  0.1622986  0.70075235]\n",
            " [0.96455108 0.50000836 0.88952006 0.34161365 0.56714413 0.42754596\n",
            "  0.43674726 0.77655918]]\n"
          ]
        }
      ]
    },
    {
      "cell_type": "code",
      "source": [
        "Qa, Qb"
      ],
      "metadata": {
        "colab": {
          "base_uri": "https://localhost:8080/"
        },
        "id": "5nR65fzzC3Kv",
        "outputId": "24e6386f-7809-4710-da51-7ba18e4d95a8"
      },
      "id": "5nR65fzzC3Kv",
      "execution_count": 50,
      "outputs": [
        {
          "output_type": "execute_result",
          "data": {
            "text/plain": [
              "(array([[ 0.        ,  0.        ,  0.        ,  0.        ,  0.        ,\n",
              "          0.        ,  0.        ,  0.        ],\n",
              "        [-0.64365814, -1.1710363 , -0.30636252, -0.34622368, -0.69977382,\n",
              "         -0.59849912, -1.22434317, -0.49780521],\n",
              "        [-0.61080496,  0.        ,  0.84656149,  0.07964548,  0.50524609,\n",
              "          0.0652865 ,  0.42812233,  0.09653092]]),\n",
              " array([[ 0.        ,  0.        ,  0.        ,  0.        ,  0.        ,\n",
              "          0.        ,  0.        ,  0.        ],\n",
              "        [-0.5058524 , -0.39666306, -0.73985695, -0.67112741, -0.36115245,\n",
              "         -0.17497917,  0.1622986 , -1.2344936 ],\n",
              "        [-1.12886355,  0.        ,  0.88952006,  0.34161365,  0.56714413,\n",
              "          0.42754596,  0.43674726,  0.77655918]]))"
            ]
          },
          "metadata": {},
          "execution_count": 50
        }
      ]
    },
    {
      "cell_type": "code",
      "source": [
        "plt.plot(pref_list, label = \"over\")\n",
        "plt.legend()"
      ],
      "metadata": {
        "colab": {
          "base_uri": "https://localhost:8080/",
          "height": 282
        },
        "id": "VyQ7qWxIAaa8",
        "outputId": "11300ea4-4317-4241-ca07-a0637e1735af"
      },
      "id": "VyQ7qWxIAaa8",
      "execution_count": 51,
      "outputs": [
        {
          "output_type": "execute_result",
          "data": {
            "text/plain": [
              "<matplotlib.legend.Legend at 0x7fb8b5910890>"
            ]
          },
          "metadata": {},
          "execution_count": 51
        },
        {
          "output_type": "display_data",
          "data": {
            "text/plain": [
              "<Figure size 432x288 with 1 Axes>"
            ],
            "image/png": "[encoded data removed]"
          },
          "metadata": {
            "needs_background": "light"
          }
        }
      ]
    },
    {
      "cell_type": "code",
      "source": [
        "np.mean(pref_list[2000:]) + 0.5"
      ],
      "metadata": {
        "colab": {
          "base_uri": "https://localhost:8080/"
        },
        "id": "hr_LcGeRD9jf",
        "outputId": "674eb553-fbd4-4477-90ac-c7c3d07c60a2"
      },
      "id": "hr_LcGeRD9jf",
      "execution_count": 52,
      "outputs": [
        {
          "output_type": "execute_result",
          "data": {
            "text/plain": [
              "-0.3270166973573728"
            ]
          },
          "metadata": {},
          "execution_count": 52
        }
      ]
    },
    {
      "cell_type": "code",
      "source": [
        "Qb"
      ],
      "metadata": {
        "colab": {
          "base_uri": "https://localhost:8080/"
        },
        "id": "D5FYwstRCkB4",
        "outputId": "a924a415-c03a-4cfd-97fe-15363ef78fc2"
      },
      "id": "D5FYwstRCkB4",
      "execution_count": 29,
      "outputs": [
        {
          "output_type": "execute_result",
          "data": {
            "text/plain": [
              "array([[ 0.        ,  0.        ,  0.        ,  0.        ,  0.        ,\n",
              "         0.        ,  0.        ,  0.        ],\n",
              "       [ 0.19899364, -0.01995643, -0.20838746, -0.3196425 , -0.14248133,\n",
              "         0.02404145,  0.43674726,  0.40838447],\n",
              "       [-0.45863034,  0.        ,  0.54420816,  0.08209492,  0.3663424 ,\n",
              "         0.8508505 ,  0.40627504,  0.02720237],\n",
              "       [ 0.24717724,  0.06714437,  0.99385201,  0.97058031,  0.80025835,\n",
              "         0.60181712,  0.76495986,  0.16922545]])"
            ]
          },
          "metadata": {},
          "execution_count": 29
        }
      ]
    },
    {
      "cell_type": "code",
      "source": [
        ""
      ],
      "metadata": {
        "id": "bjgMVAEjCkmj"
      },
      "id": "bjgMVAEjCkmj",
      "execution_count": null,
      "outputs": []
    }
  ],
  "metadata": {
    "kernelspec": {
      "display_name": "Python 3",
      "language": "python",
      "name": "python3"
    },
    "language_info": {
      "codemirror_mode": {
        "name": "ipython",
        "version": 3
      },
      "file_extension": ".py",
      "mimetype": "text/x-python",
      "name": "python",
      "nbconvert_exporter": "python",
      "pygments_lexer": "ipython3",
      "version": "3.8.8"
    },
    "colab": {
      "name": "Weighted Qlearning.ipynb",
      "provenance": []
    }
  },
  "nbformat": 4,
  "nbformat_minor": 5
}