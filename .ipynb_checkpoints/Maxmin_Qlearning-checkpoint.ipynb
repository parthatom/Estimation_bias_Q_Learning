{
 "cells": [
  {
   "cell_type": "code",
   "execution_count": 3,
   "id": "a6e54614",
   "metadata": {
    "id": "a6e54614"
   },
   "outputs": [],
   "source": [
    "import numpy as np\n",
    "import matplotlib.pyplot as plt"
   ]
  },
  {
   "cell_type": "code",
   "execution_count": 4,
   "id": "a7abf2ce",
   "metadata": {
    "id": "a7abf2ce"
   },
   "outputs": [],
   "source": [
    "N = 1\n",
    "alpha = 0.01\n",
    "gamma = 1\n",
    "np.random.seed(0)"
   ]
  },
  {
   "cell_type": "code",
   "execution_count": 5,
   "id": "ea4d225f",
   "metadata": {
    "id": "ea4d225f"
   },
   "outputs": [],
   "source": [
    "def rewardnstate(a, s):\n",
    "    r, state, terminal = P[s][a]\n",
    "    if s==1:\n",
    "        r = r + np.random.uniform(-1, 1)\n",
    "    return r, state, terminal\n",
    "\n",
    "def act_functn(Q, state):\n",
    "    eps = 0.1\n",
    "    #eps = 1/np.power(state_visits[state], 0.2)\n",
    "#     eps = 1/np.sqrt(state_visits[state])\n",
    "#     state_visits[state] += 1\n",
    "    if np.random.choice([True, False], p=[1-eps, eps]):\n",
    "        action = np.argmax(Q)\n",
    "    else:\n",
    "        action = np.random.choice(nAfes[state])\n",
    "    return action"
   ]
  },
  {
   "cell_type": "code",
   "execution_count": 9,
   "id": "af8a3e66",
   "metadata": {
    "id": "af8a3e66"
   },
   "outputs": [],
   "source": [
    "nAfes = [1, 8, 2]\n",
    "def maxmin_q_train(N, epochs, alpha, gamma, rewardnstate, act_functn, P, seed):\n",
    "    np.random.seed(seed)\n",
    "    nS = 3\n",
    "    nA = 8\n",
    "    Q_list = []\n",
    "    for i in range(N):\n",
    "        Q = np.random.rand(nS, nA)\n",
    "        Q_list.append(Q)\n",
    "    Q_list = np.array(Q_list)\n",
    "    Q_list[:, 0] = 0\n",
    "    D = [] #replay buffer2\n",
    "    diff_list = []\n",
    "    len_d = 0\n",
    "    for i in range(epochs):\n",
    "        state = 2\n",
    "        terminal = False\n",
    "        #print(Q_list[1][0])\n",
    "        while not terminal:\n",
    "            Qmin = np.min(Q_list[:, state, :nAfes[state]], axis=0)\n",
    "            action = act_functn(Qmin, state)\n",
    "#             print(Qmin)\n",
    "            r, next_state, terminal = rewardnstate(action, state)\n",
    "            D.append((state, action, r, next_state))\n",
    "            len_d += 1\n",
    "            n = np.random.randint(N)\n",
    "            sd, ad, rd, nsd  = D[np.random.choice(len_d)]\n",
    "#             sd, ad, rd, nsd = state, action, r, next_state \n",
    "            Qmin = np.min(Q_list[:, nsd, :nAfes[nsd]], axis=0)\n",
    "            Y = rd + gamma*np.max(Qmin)\n",
    "            q = Q_list[n, sd, ad]\n",
    "            Q_list[n, sd, ad] = q + alpha*(Y-q)\n",
    "            state = next_state\n",
    "        diff = .0\n",
    "        for i in range(N):\n",
    "            diff += Q_list[i][2][0] - Q_list[i][2][1] #preference of left over right\n",
    "            diff /= float(N)\n",
    "            diff_list.append(diff)\n",
    "    return diff_list, Q_list"
   ]
  },
  {
   "cell_type": "code",
   "execution_count": 10,
   "id": "nTzL0sT81TAJ",
   "metadata": {
    "id": "nTzL0sT81TAJ"
   },
   "outputs": [],
   "source": [
    "mu = 1\n",
    "P = {\n",
    "    0:{0: (0, 0, True)}, #state:{action: (reward, next state, terminal)}\n",
    "    1:{0: (mu, 0, True),\n",
    "       1: (mu, 0, True),\n",
    "       2: (mu, 0, True),\n",
    "       3: (mu, 0, True),\n",
    "       4: (mu, 0, True),\n",
    "       5: (mu, 0, True),\n",
    "       6: (mu, 0, True),\n",
    "       7: (mu, 0, True)}, \n",
    "    2:{0: (0, 1, False),\n",
    "       1: (0, 0, True)}\n",
    "}\n",
    "diff_list_over, Q_list_over = maxmin_q_train(N = 2, epochs = 2000, \n",
    "                                             alpha = 0.01, gamma = 1,  \n",
    "                                             rewardnstate = rewardnstate, \n",
    "                                             act_functn = act_functn, \n",
    "                                             P = P, seed = 0)"
   ]
  },
  {
   "cell_type": "code",
   "execution_count": 11,
   "id": "5p_95hSz2Gah",
   "metadata": {
    "id": "5p_95hSz2Gah"
   },
   "outputs": [],
   "source": [
    "mu = -0.1\n",
    "P = {\n",
    "    0:{0: (0, 0, True)}, #state:{action: (reward, next state, terminal)}\n",
    "    1:{0: (mu, 0, True),\n",
    "       1: (mu, 0, True),\n",
    "       2: (mu, 0, True),\n",
    "       3: (mu, 0, True),\n",
    "       4: (mu, 0, True),\n",
    "       5: (mu, 0, True),\n",
    "       6: (mu, 0, True),\n",
    "       7: (mu, 0, True)}, \n",
    "    2:{0: (0, 1, False),\n",
    "       1: (0, 0, True)}\n",
    "}\n",
    "diff_list_under, Q_list_under = maxmin_q_train(N = 2, epochs = 2000, \n",
    "                                               alpha = 0.01, gamma = 1,  \n",
    "                                               rewardnstate = rewardnstate, \n",
    "                                               act_functn = act_functn, \n",
    "                                               P = P, seed = 0)"
   ]
  },
  {
   "cell_type": "code",
   "execution_count": 12,
   "id": "-pPcMXro2MBB",
   "metadata": {
    "colab": {
     "base_uri": "https://localhost:8080/",
     "height": 282
    },
    "id": "-pPcMXro2MBB",
    "outputId": "83d2689f-3891-48c8-e8ae-de2ac2ce6386"
   },
   "outputs": [
    {
     "data": {
      "image/png": "[encoded data removed]",
      "text/plain": [
       "<Figure size 432x288 with 1 Axes>"
      ]
     },
     "metadata": {
      "needs_background": "light"
     },
     "output_type": "display_data"
    },
    {
     "name": "stdout",
     "output_type": "stream",
     "text": [
      "0.7132340641312154 0.10410114653308608\n"
     ]
    }
   ],
   "source": [
    "plt.plot(diff_list_over, color = \"b\", label = \"over\")\n",
    "plt.axhline(y = 0.1, color = \"b\", linestyle = \"--\", linewidth = 1)\n",
    "plt.axhline(y = -0.1, color = \"r\", linestyle = \"--\", linewidth = 1)\n",
    "plt.plot(diff_list_under, color = \"r\", label = \"under\")\n",
    "plt.legend()\n",
    "plt.show()\n",
    "print(diff_list_over[-1], diff_list_under[-1])"
   ]
  },
  {
   "cell_type": "code",
   "execution_count": 13,
   "id": "BbHwu7C6EUM8",
   "metadata": {
    "colab": {
     "base_uri": "https://localhost:8080/"
    },
    "id": "BbHwu7C6EUM8",
    "outputId": "fe62063a-c748-4d10-8b5a-1736571e9cc0"
   },
   "outputs": [
    {
     "data": {
      "text/plain": [
       "0.07170135005312273"
      ]
     },
     "execution_count": 13,
     "metadata": {},
     "output_type": "execute_result"
    }
   ],
   "source": [
    "np.mean(diff_list_over[2000:]) - 0.5"
   ]
  },
  {
   "cell_type": "code",
   "execution_count": 14,
   "id": "mjicA_64FigA",
   "metadata": {
    "colab": {
     "base_uri": "https://localhost:8080/"
    },
    "id": "mjicA_64FigA",
    "outputId": "8038efd8-87ac-43f3-a1ba-d9e8809909ac"
   },
   "outputs": [
    {
     "data": {
      "text/plain": [
       "0.6634052379335809"
      ]
     },
     "execution_count": 14,
     "metadata": {},
     "output_type": "execute_result"
    }
   ],
   "source": [
    "np.mean(diff_list_under[2000:]) + 0.5"
   ]
  },
  {
   "cell_type": "code",
   "execution_count": 15,
   "id": "TefEH0YKEUFI",
   "metadata": {
    "id": "TefEH0YKEUFI"
   },
   "outputs": [],
   "source": [
    "Q_list = []\n",
    "for i in range(3):\n",
    "    Q = np.random.rand(3, 8)\n",
    "    Q_list.append(Q)\n",
    "Q_list = np.array(Q_list)\n",
    "nAfes = [1, 8, 2]"
   ]
  },
  {
   "cell_type": "code",
   "execution_count": 163,
   "id": "e0e34c07",
   "metadata": {},
   "outputs": [
    {
     "data": {
      "text/plain": [
       "array([0.37647221, 0.01898953, 0.35449957])"
      ]
     },
     "execution_count": 163,
     "metadata": {},
     "output_type": "execute_result"
    }
   ],
   "source": [
    "np.min(Q_list[:, 2, :nAfes[2]], axis=1)"
   ]
  },
  {
   "cell_type": "code",
   "execution_count": 166,
   "id": "79e57157",
   "metadata": {},
   "outputs": [
    {
     "data": {
      "text/plain": [
       "array([[[ 0.00000000e+00,  0.00000000e+00,  0.00000000e+00,\n",
       "          0.00000000e+00,  0.00000000e+00,  0.00000000e+00,\n",
       "          0.00000000e+00,  0.00000000e+00],\n",
       "        [-1.96406497e-01, -4.98026633e-01,  2.61688706e-02,\n",
       "         -5.11845546e-01, -4.47184410e-01,  2.61716503e-02,\n",
       "         -4.97553574e-01, -5.27039559e-01],\n",
       "        [-1.02500511e-01,  1.20065436e-04,  7.78156751e-01,\n",
       "          8.70012148e-01,  9.78618342e-01,  7.99158564e-01,\n",
       "          4.61479362e-01,  7.80529176e-01]],\n",
       "\n",
       "       [[ 0.00000000e+00,  0.00000000e+00,  0.00000000e+00,\n",
       "          0.00000000e+00,  0.00000000e+00,  0.00000000e+00,\n",
       "          0.00000000e+00,  0.00000000e+00],\n",
       "        [-5.05451104e-01, -4.46431622e-01, -5.34123230e-01,\n",
       "          2.40338502e-01, -5.12321795e-01, -5.02840584e-01,\n",
       "         -2.56408802e-01,  2.68893034e-01],\n",
       "        [-5.57653278e-02,  8.26673819e-05,  6.97631196e-01,\n",
       "          6.02254716e-02,  6.66766715e-01,  6.70637870e-01,\n",
       "          2.10382561e-01,  1.28926298e-01]]])"
      ]
     },
     "execution_count": 166,
     "metadata": {},
     "output_type": "execute_result"
    }
   ],
   "source": [
    "Q_list_under"
   ]
  },
  {
   "cell_type": "markdown",
   "id": "7825fe0b",
   "metadata": {
    "id": "7825fe0b"
   },
   "source": [
    "# Grid game"
   ]
  },
  {
   "cell_type": "code",
   "execution_count": 6,
   "id": "f96b9304",
   "metadata": {
    "id": "f96b9304"
   },
   "outputs": [],
   "source": [
    "nA = 4\n",
    "nS = 9\n",
    "p = 0.8\n",
    "N = 3\n",
    "#alpha = 0.001\n",
    "gamma = 0.95\n",
    "epochs = 20000"
   ]
  },
  {
   "cell_type": "code",
   "execution_count": 7,
   "id": "af9068c9",
   "metadata": {
    "id": "af9068c9"
   },
   "outputs": [],
   "source": [
    "#r1, r2, next_state, terminal: 0: up, 1: down, 2: right, 3: left\n",
    "# Map = [\n",
    "#         \"CCG\",012\n",
    "#         \"CCC\",345\n",
    "#         \"SCC\",678\n",
    "#     ]\n",
    "P = {\n",
    "    0:{\n",
    "        0:(-12, 10, 0, False),\n",
    "        1:(-12, 10, 3, False),\n",
    "        2:(-12, 10, 1, False),\n",
    "        3:(-12, 10, 0, False)\n",
    "    },\n",
    "    1:{\n",
    "        0:(-12, 10, 1, False),\n",
    "        1:(-12, 10, 4, False),\n",
    "        2:(-12, 10, 2, False),\n",
    "        3:(-12, 10, 0, False)\n",
    "    },\n",
    "    2:{                        #Goal\n",
    "        0:(5, 5, 9, True),\n",
    "        1:(5, 5, 9, True),\n",
    "        2:(5, 5, 9, True),\n",
    "        3:(5, 5, 9, True)\n",
    "    },\n",
    "    3:{\n",
    "        0:(-12, 10, 0, False),\n",
    "        1:(-12, 10, 6, False),\n",
    "        2:(-12, 10, 4, False),\n",
    "        3:(-12, 10, 3, False)\n",
    "    },\n",
    "    4:{\n",
    "        0:(-12, 10, 1, False),\n",
    "        1:(-12, 10, 7, False),\n",
    "        2:(-12, 10, 5, False),\n",
    "        3:(-12, 10, 3, False)\n",
    "    },\n",
    "    5:{\n",
    "        0:(-12, 10, 2, False),\n",
    "        1:(-12, 10, 8, False),\n",
    "        2:(-12, 10, 5, False),\n",
    "        3:(-12, 10, 4, False)\n",
    "    },\n",
    "    6:{                        #Starting state\n",
    "        0:(-12, 10, 3, False),\n",
    "        1:(-12, 10, 6, False),\n",
    "        2:(-12, 10, 7, False),\n",
    "        3:(-12, 10, 6, False)\n",
    "    },\n",
    "    7:{\n",
    "        0:(-12, 10, 4, False),\n",
    "        1:(-12, 10, 7, False),\n",
    "        2:(-12, 10, 8, False),\n",
    "        3:(-12, 10, 6, False)\n",
    "    },\n",
    "    8:{\n",
    "        0:(-12, 10, 5, False),\n",
    "        1:(-12, 10, 8, False),\n",
    "        2:(-12, 10, 8, False),\n",
    "        3:(-12, 10, 7, False)\n",
    "    },\n",
    "    9:{                       #End of episode state\n",
    "        0:(0, 0, 9, True),\n",
    "        1:(0, 0, 9, True),\n",
    "        2:(0, 0, 9, True),\n",
    "        3:(0, 0, 9, True)\n",
    "    }\n",
    "}"
   ]
  },
  {
   "cell_type": "code",
   "execution_count": 8,
   "id": "a8f7abf3",
   "metadata": {
    "id": "a8f7abf3"
   },
   "outputs": [],
   "source": [
    "def rewardnstate(a, s):\n",
    "    r1, r2, state, terminal = P[s][a]\n",
    "    reward = np.random.choice([r1, r2])\n",
    "    return reward, state, terminal\n",
    "\n",
    "def act_functn(Q):\n",
    "    #eps = 0.1\n",
    "    #eps = 1/np.power(state_visits[state], 0.2)\n",
    "    eps = 1/np.sqrt(state_visits[state])\n",
    "    #state_visits[state] += 1\n",
    "    if np.random.choice([True, False], p=[1-eps, eps]):\n",
    "        action = np.argmax(Q)\n",
    "    else:\n",
    "        action = np.random.choice(nA)\n",
    "    return action"
   ]
  },
  {
   "cell_type": "code",
   "execution_count": 9,
   "id": "486b54f4",
   "metadata": {
    "id": "486b54f4"
   },
   "outputs": [],
   "source": [
    "np.random.seed(1)\n",
    "Q_list = np.random.rand(N, nS+1, nA)\n",
    "Q_list[:, nS] = 0\n",
    "D = [] #replay buffer\n",
    "len_d = 0\n",
    "maximal_value = []\n",
    "count_matrix = np.ones([N, nS, nA])\n",
    "state_visits = np.ones(nS)\n",
    "for i in range(5000):\n",
    "    state = 6\n",
    "    terminal = False\n",
    "    while not terminal:\n",
    "        Qmin = np.empty(nA)\n",
    "        for i in range(nA):\n",
    "            m = np.min(Q_list[:, state, i])\n",
    "            Qmin[i] = m\n",
    "        action = act_functn(Qmin)\n",
    "        r, next_state, terminal = rewardnstate(action, state)\n",
    "        D.append((state, action, r, next_state))\n",
    "        len_d += 1       \n",
    "        for k in range(10):\n",
    "            n = np.random.randint(N)\n",
    "            sd, ad, rd, nsd  = D[np.random.choice(len_d)]\n",
    "            Qmin = np.empty(nA)   \n",
    "            for i in range(nA):\n",
    "                m = np.min(Q_list[:, nsd, i])\n",
    "                Qmin[i] = m\n",
    "            Y = rd + gamma*max(Qmin)\n",
    "            q = Q_list[n][sd][ad]\n",
    "            alpha = (1/np.power(count_matrix[n, sd, ad], p))\n",
    "            Q_list[n][sd][ad] = q + alpha*(Y-q)\n",
    "            count_matrix[n, sd, ad] += 1\n",
    "            state_visits[sd] += 1\n",
    "        state = next_state\n",
    "    maximal_value.append(np.max(Q_list[:, 6].flatten()))"
   ]
  },
  {
   "cell_type": "code",
   "execution_count": 10,
   "id": "2040b305",
   "metadata": {
    "colab": {
     "base_uri": "https://localhost:8080/",
     "height": 265
    },
    "id": "2040b305",
    "outputId": "b5d48a78-3c3c-44ad-e6de-315654d05439"
   },
   "outputs": [
    {
     "data": {
      "image/png": "[encoded data removed]",
      "text/plain": [
       "<Figure size 432x288 with 1 Axes>"
      ]
     },
     "metadata": {
      "needs_background": "light"
     },
     "output_type": "display_data"
    }
   ],
   "source": [
    "props = {\n",
    "    \"width\": 1,\n",
    "    \"headwidth\": 10\n",
    "}\n",
    "\n",
    "plt.plot(maximal_value, linewidth=1)\n",
    "plt.axhline(y = 0.36, color = \"r\", linestyle = \"--\", linewidth = 1)\n",
    "#plt.annotate('y = %s' % round(maximal_value_a[-1], 4), xy=(8000, maximal_value_a[-1]), xytext=(9000, -2), arrowprops = props)\n",
    "plt.show()"
   ]
  },
  {
   "cell_type": "code",
   "execution_count": 14,
   "id": "BKmrPeo9W2qW",
   "metadata": {
    "colab": {
     "base_uri": "https://localhost:8080/"
    },
    "id": "BKmrPeo9W2qW",
    "outputId": "34fa0a82-077d-427e-c9ce-b7d1ac783fa9"
   },
   "outputs": [
    {
     "data": {
      "text/plain": [
       "(-0.6963045677920221, -0.7138553770291485)"
      ]
     },
     "execution_count": 14,
     "metadata": {},
     "output_type": "execute_result"
    }
   ],
   "source": [
    "(np.mean(maximal_value) - 0.36), (np.mean(maximal_value[2000:]) - 0.36)"
   ]
  },
  {
   "cell_type": "code",
   "execution_count": 12,
   "id": "610d4650",
   "metadata": {
    "colab": {
     "base_uri": "https://localhost:8080/"
    },
    "id": "610d4650",
    "outputId": "6ae2a64b-5c3f-444b-9a25-f306d857922f"
   },
   "outputs": [
    {
     "data": {
      "text/plain": [
       "array([[-1.91358731, -4.38862993,  3.50343069,  3.47206448],\n",
       "       [ 0.33068506, -4.95446118,  3.89316071,  4.90219091],\n",
       "       [-0.20861263, -5.04271798,  3.86657974,  3.32308421]])"
      ]
     },
     "execution_count": 12,
     "metadata": {},
     "output_type": "execute_result"
    }
   ],
   "source": [
    "Q_list[:, nsd, :]"
   ]
  },
  {
   "cell_type": "code",
   "execution_count": 13,
   "id": "515aa705",
   "metadata": {
    "colab": {
     "base_uri": "https://localhost:8080/"
    },
    "id": "515aa705",
    "outputId": "5e661fd2-8b96-41bc-a8bb-8614d6c728d8"
   },
   "outputs": [
    {
     "data": {
      "text/plain": [
       "29800"
      ]
     },
     "execution_count": 13,
     "metadata": {},
     "output_type": "execute_result"
    }
   ],
   "source": [
    "len_d"
   ]
  },
  {
   "cell_type": "code",
   "execution_count": null,
   "id": "f5LAMQEoqEY5",
   "metadata": {
    "id": "f5LAMQEoqEY5"
   },
   "outputs": [],
   "source": []
  }
 ],
 "metadata": {
  "colab": {
   "include_colab_link": true,
   "name": "Maxmin Qlearning.ipynb",
   "provenance": []
  },
  "kernelspec": {
   "display_name": "Python 3",
   "language": "python",
   "name": "python3"
  },
  "language_info": {
   "codemirror_mode": {
    "name": "ipython",
    "version": 3
   },
   "file_extension": ".py",
   "mimetype": "text/x-python",
   "name": "python",
   "nbconvert_exporter": "python",
   "pygments_lexer": "ipython3",
   "version": "3.8.8"
  }
 },
 "nbformat": 4,
 "nbformat_minor": 5
}
