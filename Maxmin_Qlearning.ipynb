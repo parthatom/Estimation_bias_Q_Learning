{
 "cells": [
  {
   "cell_type": "code",
   "execution_count": 1,
   "id": "a6e54614",
   "metadata": {
    "id": "a6e54614"
   },
   "outputs": [],
   "source": [
    "import numpy as np\n",
    "import matplotlib.pyplot as plt"
   ]
  },
  {
   "cell_type": "code",
   "execution_count": 18,
   "id": "a7abf2ce",
   "metadata": {
    "id": "a7abf2ce"
   },
   "outputs": [],
   "source": [
    "N = 3\n",
    "alpha = 0.01\n",
    "gamma = 1\n",
    "np.random.seed(0)"
   ]
  },
  {
   "cell_type": "code",
   "execution_count": 19,
   "id": "ea4d225f",
   "metadata": {
    "id": "ea4d225f"
   },
   "outputs": [],
   "source": [
    "def rewardnstate(a, s):\n",
    "    r, state, terminal = P[s][a]\n",
    "    if s==1:\n",
    "        r = r + np.random.uniform(-1, 1)\n",
    "    return r, state, terminal\n",
    "\n",
    "def act_functn(Q, state):\n",
    "    eps = 0.1\n",
    "    #eps = 1/np.power(state_visits[state], 0.2)\n",
    "#     eps = 1/np.sqrt(state_visits[state])\n",
    "#     state_visits[state] += 1\n",
    "    if np.random.choice([True, False], p=[1-eps, eps]):\n",
    "        action = np.argmax(Q)\n",
    "    else:\n",
    "        action = np.random.choice(nAfes[state])\n",
    "    return action"
   ]
  },
  {
   "cell_type": "code",
   "execution_count": 81,
   "id": "af8a3e66",
   "metadata": {
    "id": "af8a3e66"
   },
   "outputs": [],
   "source": [
    "nAfes = [1, 8, 2]\n",
    "def maxmin_q_train(N, epochs, alpha, gamma, rewardnstate, act_functn, P, seed):\n",
    "    np.random.seed(seed)\n",
    "    nS = 3\n",
    "    nA = 8\n",
    "    Q_list = []\n",
    "    for i in range(N):\n",
    "        Q = np.random.rand(nS, nA)\n",
    "        Q_list.append(Q)\n",
    "    Q_list = np.array(Q_list)\n",
    "    Q_list[:, 0] = 0\n",
    "    D = [] #replay buffer2\n",
    "    diff_list = []\n",
    "    len_d = 0\n",
    "    for i in range(epochs):\n",
    "        state = 2\n",
    "        terminal = False\n",
    "        #print(Q_list[1][0])\n",
    "        while not terminal:\n",
    "            Qmin = np.min(Q_list[:, state, :nAfes[state]], axis=0)\n",
    "            action = act_functn(Qmin, state)\n",
    "#             print(Qmin)\n",
    "            r, next_state, terminal = rewardnstate(action, state)\n",
    "            D.append((state, action, r, next_state))\n",
    "            len_d += 1\n",
    "            n = np.random.randint(N)\n",
    "            sd, ad, rd, nsd  = D[np.random.choice(len_d)]\n",
    "#             sd, ad, rd, nsd = state, action, r, next_state \n",
    "            Qmin = np.min(Q_list[:, nsd, :nAfes[nsd]], axis=0)\n",
    "            Y = rd + gamma*np.max(Qmin)\n",
    "            q = Q_list[n, sd, ad]\n",
    "            Q_list[n, sd, ad] = q + alpha*(Y-q)\n",
    "            state = next_state\n",
    "        diff = 0.\n",
    "        for i in range(N):\n",
    "            diff += Q_list[i][2][0] - Q_list[i][2][1] #preference of left over right\n",
    "        diff /= float(N)\n",
    "        diff_list.append(diff)\n",
    "    return diff_list, Q_list"
   ]
  },
  {
   "cell_type": "code",
   "execution_count": 82,
   "id": "9f5b0f44",
   "metadata": {},
   "outputs": [
    {
     "name": "stdout",
     "output_type": "stream",
     "text": [
      "[[0.3995798  0.27817748]\n",
      " [0.82408744 0.63343138]\n",
      " [0.58600935 0.56425505]]\n"
     ]
    }
   ],
   "source": [
    "Q_list = []\n",
    "for i in range(N):\n",
    "    Q = np.random.rand(3, 8)\n",
    "    Q_list.append(Q)\n",
    "Q_list = np.array(Q_list)\n",
    "print(Q_list[:, 2, :nAfes[2]])"
   ]
  },
  {
   "cell_type": "code",
   "execution_count": 103,
   "id": "nTzL0sT81TAJ",
   "metadata": {
    "id": "nTzL0sT81TAJ"
   },
   "outputs": [],
   "source": [
    "mu = 1\n",
    "P = {\n",
    "    0:{0: (0, 0, True)}, #state:{action: (reward, next state, terminal)}\n",
    "    1:{0: (mu, 0, True),\n",
    "       1: (mu, 0, True),\n",
    "       2: (mu, 0, True),\n",
    "       3: (mu, 0, True),\n",
    "       4: (mu, 0, True),\n",
    "       5: (mu, 0, True),\n",
    "       6: (mu, 0, True),\n",
    "       7: (mu, 0, True)}, \n",
    "    2:{0: (0, 1, False),\n",
    "       1: (0, 0, True)}\n",
    "}\n",
    "diff_list_over, Q_list_over = maxmin_q_train(N = 10, epochs = 5000, \n",
    "                                             alpha = 0.01, gamma = 1,  \n",
    "                                             rewardnstate = rewardnstate, \n",
    "                                             act_functn = act_functn, \n",
    "                                             P = P, seed = 0)"
   ]
  },
  {
   "cell_type": "code",
   "execution_count": 104,
   "id": "5p_95hSz2Gah",
   "metadata": {
    "id": "5p_95hSz2Gah"
   },
   "outputs": [],
   "source": [
    "mu = -1\n",
    "P = {\n",
    "    0:{0: (0, 0, True)}, #state:{action: (reward, next state, terminal)}\n",
    "    1:{0: (mu, 0, True),\n",
    "       1: (mu, 0, True),\n",
    "       2: (mu, 0, True),\n",
    "       3: (mu, 0, True),\n",
    "       4: (mu, 0, True),\n",
    "       5: (mu, 0, True),\n",
    "       6: (mu, 0, True),\n",
    "       7: (mu, 0, True)}, \n",
    "    2:{0: (0, 1, False),\n",
    "       1: (0, 0, True)}\n",
    "}\n",
    "diff_list_under, Q_list_under = maxmin_q_train(N = 4, epochs = 5000, \n",
    "                                               alpha = 0.01, gamma = 1,  \n",
    "                                               rewardnstate = rewardnstate, \n",
    "                                               act_functn = act_functn, \n",
    "                                               P = P, seed = 0)"
   ]
  },
  {
   "cell_type": "code",
   "execution_count": 105,
   "id": "-pPcMXro2MBB",
   "metadata": {
    "colab": {
     "base_uri": "https://localhost:8080/",
     "height": 282
    },
    "id": "-pPcMXro2MBB",
    "outputId": "83d2689f-3891-48c8-e8ae-de2ac2ce6386",
    "scrolled": true
   },
   "outputs": [
    {
     "data": {
      "image/png": "[encoded data removed]",
      "text/plain": [
       "<Figure size 640x480 with 1 Axes>"
      ]
     },
     "metadata": {},
     "output_type": "display_data"
    },
    {
     "name": "stdout",
     "output_type": "stream",
     "text": [
      "0.7477045464651761 -0.1683328212644948\n"
     ]
    }
   ],
   "source": [
    "plt.plot(diff_list_over, color = \"b\", label = \"over\")\n",
    "plt.axhline(y = 0.1, color = \"b\", linestyle = \"--\", linewidth = 1)\n",
    "plt.axhline(y = -0.1, color = \"r\", linestyle = \"--\", linewidth = 1)\n",
    "plt.plot(diff_list_under, color = \"r\", label = \"under\")\n",
    "plt.legend()\n",
    "plt.show()\n",
    "print(diff_list_over[-1], diff_list_under[-1])"
   ]
  },
  {
   "cell_type": "markdown",
   "id": "f256db04",
   "metadata": {},
   "source": [
    "# mu = 1, mu = -1\n",
    "\n",
    "# 0.16413845575626063, 0.22977469936721467 1000 epochs \n",
    "# 0.5342581497100699, -0.02164709207862111 3000 epochs\n",
    "# 0.7477045464651761, -0.1683328212644948  5000 epochs"
   ]
  },
  {
   "cell_type": "code",
   "execution_count": 14,
   "id": "mjicA_64FigA",
   "metadata": {
    "colab": {
     "base_uri": "https://localhost:8080/"
    },
    "id": "mjicA_64FigA",
    "outputId": "8038efd8-87ac-43f3-a1ba-d9e8809909ac"
   },
   "outputs": [
    {
     "data": {
      "text/plain": [
       "0.6634052379335809"
      ]
     },
     "execution_count": 14,
     "metadata": {},
     "output_type": "execute_result"
    }
   ],
   "source": [
    "np.mean(diff_list_under[2000:]) + 0.5"
   ]
  }
 ],
 "metadata": {
  "colab": {
   "include_colab_link": true,
   "name": "Maxmin Qlearning.ipynb",
   "provenance": []
  },
  "kernelspec": {
   "display_name": "Python 3 (ipykernel)",
   "language": "python",
   "name": "python3"
  },
  "language_info": {
   "codemirror_mode": {
    "name": "ipython",
    "version": 3
   },
   "file_extension": ".py",
   "mimetype": "text/x-python",
   "name": "python",
   "nbconvert_exporter": "python",
   "pygments_lexer": "ipython3",
   "version": "3.10.7"
  }
 },
 "nbformat": 4,
 "nbformat_minor": 5
}
