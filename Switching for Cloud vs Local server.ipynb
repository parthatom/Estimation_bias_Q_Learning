{
 "cells": [
  {
   "cell_type": "code",
   "execution_count": 1,
   "id": "f6923447",
   "metadata": {},
   "outputs": [],
   "source": [
    "import numpy as np\n",
    "import matplotlib.pyplot as plt\n",
    "import statistics as stat "
   ]
  },
  {
   "cell_type": "code",
   "execution_count": 2,
   "id": "6f3e97e4",
   "metadata": {},
   "outputs": [],
   "source": [
    "def rewardnstate(a, s):\n",
    "    r, state, terminal = P[s][a]\n",
    "    if s==1 and a==0:\n",
    "        r = r + np.random.uniform(-1, 1)\n",
    "    return r, state, terminal\n",
    "\n",
    "def act_functn(Q, state, state_visits, nAfes):\n",
    "    #eps = 0.2\n",
    "    #eps = 1/np.power(state_visits[state], 0.2)\n",
    "    eps = 1/np.sqrt(state_visits[state])\n",
    "    if np.random.choice([True, False], p=[1-eps, eps]):\n",
    "        action = np.argmax(Q[state, :nAfes[state]])\n",
    "    else:\n",
    "        action = np.random.choice(nAfes[state])\n",
    "    return action"
   ]
  },
  {
   "cell_type": "code",
   "execution_count": 3,
   "id": "a5f0c2d0",
   "metadata": {},
   "outputs": [],
   "source": [
    "def train(epochs, gamma, rewardnstate, act_functn, P, seed=1, alpha=0.05):\n",
    "    def double_Qlearning(Qa, Qb,\n",
    "                         cumsum, count,\n",
    "                         count_matrix_a, maximal_value_a, \n",
    "                         maximal_value,\n",
    "                         rewardnstate, action,\n",
    "                         state, reward_list,\n",
    "                         state_visits):\n",
    "        reward, next_state, terminal = rewardnstate(action, state)\n",
    "        cumsum += reward\n",
    "        count += 1\n",
    "        alpha_a = 1/np.power(count_matrix_a[state, action], p)\n",
    "        action_star = np.argmax(Qa[next_state, :nAfes[next_state]])\n",
    "        Qa[state, action] += alpha_a*(reward + gamma*Qb[next_state, action_star] - Qa[state, action])\n",
    "        count_matrix_a[state, action] += 1\n",
    "        state_visits[state] += 1\n",
    "        maximal_value_a.append(np.max(Qa[start_state, :nAfes[start_state]]))\n",
    "        maximal_value.append(np.max(Qa[start_state, :nAfes[start_state]]))\n",
    "        reward_list.append((state, action, reward))\n",
    "        return (reward_list, maximal_value_a,\n",
    "                maximal_value, state_visits,\n",
    "                count_matrix_a, Qa,\n",
    "                next_state, terminal,\n",
    "                cumsum, count)    \n",
    "    \n",
    "    def Qlearning(Qa, cumsum,\n",
    "                  count, count_matrix_a,\n",
    "                  maximal_value_a, maximal_value, \n",
    "                  rewardnstate,\n",
    "                  action, state, reward_list,\n",
    "                  state_visits):\n",
    "        reward, next_state, terminal = rewardnstate(action, state)\n",
    "        cumsum += reward\n",
    "        count += 1\n",
    "        alpha_a = 1/np.power(count_matrix_a[state, action], p)\n",
    "        Qa[state, action] += alpha_a*(reward + gamma*np.max(Qa[next_state, :nAfes[next_state]]) - Qa[state, action])\n",
    "        count_matrix_a[state, action] += 1\n",
    "        state_visits[state] += 1\n",
    "        maximal_value_a.append(np.max(Qa[start_state, :nAfes[start_state]]))\n",
    "        maximal_value.append(np.max(Qa[start_state, :nAfes[start_state]]))\n",
    "        reward_list.append((state, action, reward))\n",
    "        return (reward_list, maximal_value_a,\n",
    "                maximal_value, state_visits,\n",
    "                count_matrix_a, Qa,\n",
    "                next_state, terminal,\n",
    "                cumsum, count)\n",
    "    \n",
    "    np.random.seed(seed)\n",
    "    nS = 2\n",
    "    nA = 2\n",
    "    state_visits = np.ones(nS)\n",
    "    maximal_value = []\n",
    "    pref_list = []\n",
    "    pref_learning_list = [] #0: double q learning, 1: q learning \n",
    "    cumsum = 0\n",
    "    count = 0\n",
    "\n",
    "    Q = np.random.rand(2, nS, nA)\n",
    "    Q[0, 0] = 0\n",
    "    Q[1, 0] = 0\n",
    "    count_matrix = np.ones([2, nS, nA])\n",
    "    maximal_value_v = [[], []]\n",
    "    nAfes = [1, 2] #num_Actions_for_each_state\n",
    "    start_state = 1\n",
    "    avg_reward_per_step = []\n",
    "    return_dict = {\n",
    "            0: {0: []},\n",
    "            1: {\n",
    "                0: [], 1: []\n",
    "            }\n",
    "        }\n",
    "    for i in range(epochs):\n",
    "        reward_list = []\n",
    "        state = start_state#state = np.random.choice(nS)\n",
    "        terminal = True if state==0 else False\n",
    "        choice = np.random.choice([True, False]).astype(\"int\")\n",
    "        \n",
    "        while not terminal:\n",
    "            action = act_functn(Q[choice], state, state_visits, nAfes)\n",
    "            opt_action = np.argmax(np.mean(Q[:, state], axis=0))\n",
    "            other_action = 1-opt_action #0 if 1; 1 if 0\n",
    "\n",
    "            # Double Q learning is preferred if \n",
    "            #  we have more than 2 previous returns for a state action pair\n",
    "            #  and the variance of return is less a threshold\n",
    "            # In case either of the above two criteria are not followed\n",
    "            # Q learning is preferred. \n",
    "            \n",
    "            if(len(return_dict[state][action]) >= 2):\n",
    "                if(np.var(return_dict[state][opt_action])<np.var(return_dict[state][other_action])):\n",
    "                    \n",
    "                    \n",
    "                    choice2 = np.random.choice([True, False]).astype(\"int\")                    \n",
    "                    (reward_list, maximal_value_v[choice2],\n",
    "                      maximal_value, state_visits,\n",
    "                      count_matrix[choice2], Qc2, next_state,\n",
    "                      terminal, cumsum, \n",
    "                     count) = double_Qlearning(Q[choice2], Q[1-choice2],\n",
    "                                              cumsum, count,\n",
    "                                              count_matrix[choice2], \n",
    "                                              maximal_value_v[choice2],\n",
    "                                               maximal_value,\n",
    "                                              rewardnstate, action,\n",
    "                                              state, reward_list,\n",
    "                                              state_visits)\n",
    "                    Q[choice2] = Qc2\n",
    "                    pref_learning_list.append(0) #Double qlearning\n",
    "                else:\n",
    "                    \n",
    "                    (reward_list, maximal_value_v[choice],\n",
    "                    maximal_value, state_visits,\n",
    "                    count_matrix[choice], Q[choice], next_state,\n",
    "                    terminal, cumsum, count) = Qlearning(Q[choice], cumsum,\n",
    "                                                          count, count_matrix[choice],\n",
    "                                                          maximal_value_v[choice], \n",
    "                                                          maximal_value,\n",
    "                                                          rewardnstate, action, \n",
    "                                                          state, reward_list,\n",
    "                                                          state_visits)\n",
    "                    pref_learning_list.append(1) #qlearning\n",
    "            else:\n",
    "                \n",
    "                (reward_list, maximal_value_v[choice],\n",
    "                 maximal_value, state_visits,\n",
    "                 count_matrix[choice], Q[choice], next_state,\n",
    "                 terminal, cumsum, count) = Qlearning(Q[choice], cumsum,\n",
    "                                                      count, count_matrix[choice],\n",
    "                                                      maximal_value_v[choice], \n",
    "                                                      maximal_value,\n",
    "                                                      rewardnstate, action, \n",
    "                                                      state, reward_list,\n",
    "                                                      state_visits)\n",
    "                pref_learning_list.append(1) #qlearning\n",
    "            state = next_state\n",
    "            reward_sum = 0\n",
    "            for i in range(len(reward_list)-1, -1, -1):\n",
    "                reward_sum = gamma*reward_sum + reward_list[i][2]\n",
    "                return_dict[reward_list[i][0]][reward_list[i][1]].append(reward_sum)\n",
    "\n",
    "        pref = .0\n",
    "        pref += Q[0][1][0] - Q[0][1][1] #preference of left over right\n",
    "        pref += Q[1][1][0] - Q[1][1][1] #preference of left over right\n",
    "        pref /= float(2)\n",
    "        pref_list.append(pref)\n",
    "        avg_reward_per_step.append(cumsum/count)\n",
    "    return (avg_reward_per_step, pref_list, pref_learning_list, \n",
    "            Q[0], Q[1], maximal_value_v[0], maximal_value_v[1], \n",
    "            maximal_value, return_dict)"
   ]
  },
  {
   "cell_type": "code",
   "execution_count": 5,
   "id": "9fb17262",
   "metadata": {},
   "outputs": [
    {
     "name": "stdout",
     "output_type": "stream",
     "text": [
      "1.0370942404188357\n"
     ]
    }
   ],
   "source": [
    "N = 3\n",
    "alpha = 0.01\n",
    "gamma = 0.99\n",
    "epochs = 2000\n",
    "p = 0.8\n",
    "for i in [1]:\n",
    "    mu = i\n",
    "    P = {\n",
    "        0:{0: (0, 0, True)}, #state:{action: (reward, next state, terminal)}\n",
    "        1:{0: (mu, 0, True),\n",
    "           1: (0, 0, True)}\n",
    "    }\n",
    "    (reward_list, pref_list,\n",
    "     pref_learning_list, Qa,\n",
    "     Qb, maximal_value_a,\n",
    "     maximal_value_b, maximal_value,\n",
    "     return_dict) = train(epochs, gamma, rewardnstate, act_functn, P)\n",
    "    print(pref_list[-1])"
   ]
  },
  {
   "cell_type": "code",
   "execution_count": 6,
   "id": "d92b50cf",
   "metadata": {},
   "outputs": [
    {
     "data": {
      "text/plain": [
       "(2000, 2000, 0, 0)"
      ]
     },
     "execution_count": 6,
     "metadata": {},
     "output_type": "execute_result"
    }
   ],
   "source": [
    "pref_learning_array = np.array(pref_learning_list)\n",
    "maximal_value_array = np.array(maximal_value)\n",
    "qchosen = (pref_learning_array).nonzero()[0]\n",
    "qchosen_maximal_value = maximal_value_array[qchosen]\n",
    "dqchosen =(1-pref_learning_array).nonzero()[0]\n",
    "dqchosen_maximal_value = maximal_value_array[dqchosen]\n",
    "len(qchosen), len(qchosen_maximal_value), len(dqchosen), len(dqchosen_maximal_value)"
   ]
  },
  {
   "cell_type": "code",
   "execution_count": 7,
   "id": "1b89caa0",
   "metadata": {},
   "outputs": [
    {
     "data": {
      "image/png": "[encoded data removed]",
      "text/plain": [
       "<Figure size 1550x650 with 1 Axes>"
      ]
     },
     "metadata": {},
     "output_type": "display_data"
    }
   ],
   "source": [
    "fig, ax = plt.subplots()\n",
    "red_dot, = ax.plot(dqchosen, dqchosen_maximal_value, \"r.\", markersize=5)\n",
    "blue_dot, = ax.plot(qchosen,qchosen_maximal_value, \"b.\",  markersize=5)\n",
    "\n",
    "ax.legend([red_dot, (red_dot, blue_dot)], [\"dq chosen\", \"q chosen\"])\n",
    "fig.set_size_inches(15.5, 6.5, forward=True)\n",
    "plt.title(\"mu={}\".format(mu))\n",
    "plt.show()"
   ]
  },
  {
   "cell_type": "code",
   "execution_count": 64,
   "id": "aec37511",
   "metadata": {},
   "outputs": [
    {
     "data": {
      "text/plain": [
       "1"
      ]
     },
     "execution_count": 64,
     "metadata": {},
     "output_type": "execute_result"
    }
   ],
   "source": [
    "np.argmax(np.array([0, 1]))"
   ]
  },
  {
   "cell_type": "code",
   "execution_count": null,
   "id": "f6689251",
   "metadata": {},
   "outputs": [],
   "source": []
  }
 ],
 "metadata": {
  "kernelspec": {
   "display_name": "Python 3 (ipykernel)",
   "language": "python",
   "name": "python3"
  },
  "language_info": {
   "codemirror_mode": {
    "name": "ipython",
    "version": 3
   },
   "file_extension": ".py",
   "mimetype": "text/x-python",
   "name": "python",
   "nbconvert_exporter": "python",
   "pygments_lexer": "ipython3",
   "version": "3.10.7"
  }
 },
 "nbformat": 4,
 "nbformat_minor": 5
}
