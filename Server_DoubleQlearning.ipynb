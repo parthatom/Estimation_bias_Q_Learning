{
 "cells": [
  {
   "cell_type": "code",
   "execution_count": 1,
   "metadata": {},
   "outputs": [],
   "source": [
    "import numpy as np\n",
    "import matplotlib.pyplot as plt\n",
    "import statistics as stat \n",
    "\n",
    "B = 512;C = 10000;W = 1.4 * pow(10,6)\n",
    "f_I = pow(10,9);f_M = pow(10,12)\n",
    "N_0 = pow(10,-16);P = 0.5 \n",
    "\n",
    "def arrival_and_departure_times(param1,param2,N):\n",
    "    a = []\n",
    "    d = []\n",
    "    s = 0\n",
    "    for i in range(N):\n",
    "        s = s + np.random.exponential(param1)\n",
    "        a.append(s)\n",
    "    for i in range(N):\n",
    "        d.append(a[i] + np.random.exponential(param2))\n",
    "    return (np.array(a),np.array(d))\n",
    "\n",
    "def local_cost():\n",
    "    return ((B*C)/f_I)\n",
    "\n",
    "def cloud_cost(n):\n",
    "    h_g_2 = np.random.exponential(1)\n",
    "    R = W * np.log2(1 + P*h_g_2/N_0)\n",
    "    #R = np.random.choice([R,R/5],p = [0.5,0.5])\n",
    "    return (B/R + B*C*n/f_M)\n",
    "\n",
    "def next_state(local_pos,cloud_pos,action):\n",
    "    if action == 0:\n",
    "        (new_local_pos,new_cloud_pos,reward) = (local_pos + 1,cloud_pos,-local_cost())\n",
    "    else:\n",
    "        (new_local_pos,new_cloud_pos,reward) = (local_pos,cloud_pos + 1,-cloud_cost(cloud_pos))\n",
    "    return  (new_local_pos,new_cloud_pos,reward)\n"
   ]
  },
  {
   "cell_type": "code",
   "execution_count": 2,
   "metadata": {},
   "outputs": [],
   "source": [
    "\n",
    "def Server_DoubleQ_learning(N):\n",
    "    gamma = 0.9\n",
    "    n = 50\n",
    "    reward_list = []\n",
    "    reward_sum_list = []\n",
    "    reward_sum_avg_list = np.array([0]*N)\n",
    "    runs = 1\n",
    "    mu = 1/20;lamda = 1\n",
    "    \n",
    "    for ind in range(runs):\n",
    "        reward_sum = 0\n",
    "        count = 0\n",
    "        mu = 1/20;lamda = 1\n",
    "        Qa = np.zeros((n,n,2))\n",
    "        Qb = np.zeros((n,n,2))\n",
    "        freq = np.ones((n,n))\n",
    "        freq_action = np.ones((n,n,2))\n",
    "        (arrivals,departures) = arrival_and_departure_times(mu,lamda,N)\n",
    "        local_pos = 0;cloud_pos = 0\n",
    "        local_actions = np.array([False]*N)\n",
    "        cloud_actions = np.array([False]*N)\n",
    "        reward_list = []\n",
    "        reward_sum_list = []\n",
    "        for i in range(N):\n",
    "            local_pos = ((departures > arrivals[i]) & (arrivals < arrivals[i]) & (local_actions)).sum()\n",
    "            cloud_pos = ((departures > arrivals[i]) & (arrivals < arrivals[i]) & (cloud_actions)).sum()\n",
    "            eps = 1/np.sqrt(freq[local_pos,cloud_pos])\n",
    "            action = np.random.choice([np.argmax(Qa[local_pos,cloud_pos] + Qb[local_pos,cloud_pos]),np.random.choice([0,1])],p = [1 - eps,eps])\n",
    "            if local_pos == n:\n",
    "                action = 1\n",
    "            if cloud_pos == n:\n",
    "                action = 0        \n",
    "            if action == 0:\n",
    "                local_actions[i] = 1\n",
    "            if action == 1:\n",
    "                cloud_actions[i] = 1\n",
    "            (new_local_pos,new_cloud_pos,reward) = next_state(local_pos,cloud_pos,action)\n",
    "            reward_sum = reward_sum + reward\n",
    "            count = count + 1\n",
    "            alpha = 1/np.power(freq_action[local_pos,cloud_pos, action],0.8)\n",
    "            if np.random.choice([True,False]):\n",
    "                Qa[local_pos,cloud_pos,action] = Qa[local_pos,cloud_pos,action] + alpha*(reward + gamma*Qb[local_pos,cloud_pos,np.argmax(Qa[new_local_pos,new_cloud_pos])] - Qa[local_pos,cloud_pos,action])\n",
    "            else:\n",
    "                Qb[local_pos,cloud_pos,action] = Qb[local_pos,cloud_pos,action] + alpha*(reward + gamma*Qa[local_pos,cloud_pos,np.argmax(Qb[new_local_pos,new_cloud_pos])] - Qb[local_pos,cloud_pos,action])\n",
    "            freq[local_pos,cloud_pos] = freq[local_pos,cloud_pos] + 1\n",
    "            freq_action[local_pos,cloud_pos,action] = freq_action[local_pos,cloud_pos,action] + 1     \n",
    "            reward_list.append(reward)\n",
    "            reward_sum_list.append(reward_sum/count)\n",
    "        reward_sum_avg_list = reward_sum_avg_list + np.array(reward_sum_list)\n",
    "    return reward_list,reward_sum_list,reward_sum_avg_list/runs,local_actions"
   ]
  },
  {
   "cell_type": "code",
   "execution_count": 3,
   "metadata": {},
   "outputs": [
    {
     "data": {
      "text/plain": [
       "[<matplotlib.lines.Line2D at 0x1e0aeaf7bd0>]"
      ]
     },
     "execution_count": 3,
     "metadata": {},
     "output_type": "execute_result"
    },
    {
     "data": {
      "image/png": "[encoded data removed]",
      "text/plain": [
       "<Figure size 640x480 with 1 Axes>"
      ]
     },
     "metadata": {},
     "output_type": "display_data"
    }
   ],
   "source": [
    "N = 5000\n",
    "r_list_dq,r_sum_list_dq,r_sum_avg_list_dq,local_actions_dq = Server_DoubleQ_learning(N)\n",
    "plt.plot(-r_sum_avg_list_dq)"
   ]
  },
  {
   "cell_type": "code",
   "execution_count": null,
   "metadata": {},
   "outputs": [],
   "source": []
  }
 ],
 "metadata": {
  "kernelspec": {
   "display_name": "Python 3",
   "language": "python",
   "name": "python3"
  },
  "language_info": {
   "codemirror_mode": {
    "name": "ipython",
    "version": 3
   },
   "file_extension": ".py",
   "mimetype": "text/x-python",
   "name": "python",
   "nbconvert_exporter": "python",
   "pygments_lexer": "ipython3",
   "version": "3.11.0"
  },
  "orig_nbformat": 4
 },
 "nbformat": 4,
 "nbformat_minor": 2
}
